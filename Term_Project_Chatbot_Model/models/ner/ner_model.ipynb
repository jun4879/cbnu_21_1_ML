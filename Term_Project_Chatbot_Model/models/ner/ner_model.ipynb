{
 "cells": [
  {
   "cell_type": "code",
   "execution_count": 1,
   "id": "behind-seventh",
   "metadata": {},
   "outputs": [],
   "source": [
    "import tensorflow as tf\n",
    "from tensorflow.keras import preprocessing\n",
    "from tensorflow.keras.models import Sequential\n",
    "from tensorflow.keras.layers import LSTM, Embedding, Dense, TimeDistributed, Dropout, Bidirectional\n",
    "from tensorflow.keras.callbacks import ModelCheckpoint\n",
    "from tensorflow.keras.optimizers import Adam\n",
    "from seqeval.metrics import f1_score, classification_report\n",
    "from sklearn.model_selection import train_test_split\n",
    "import matplotlib.pyplot as plt\n",
    "import numpy as np\n",
    "import sys\n",
    "sys.path.append('../../utils')\n",
    "from preprocess import Preprocess"
   ]
  },
  {
   "cell_type": "code",
   "execution_count": 2,
   "id": "swiss-webcam",
   "metadata": {},
   "outputs": [],
   "source": [
    "def read_file(file_name):\n",
    "    sents = []\n",
    "    # 학습 데이터 형태 참고\n",
    "    with open(file_name, 'r', encoding='utf-8') as f:\n",
    "        lines = f.readlines()\n",
    "        for idx, l in enumerate(lines):\n",
    "            if l[0] == ';' and lines[idx+1][0] == '$':\n",
    "                this_sent = []\n",
    "            elif l[0] == '$' and lines[idx-1][0] == ';':\n",
    "                continue\n",
    "            elif l[0] == '\\n':\n",
    "                sents.append(this_sent)\n",
    "            else :\n",
    "                this_sent.append(tuple(l.split()))\n",
    "    return sents"
   ]
  },
  {
   "cell_type": "code",
   "execution_count": 3,
   "id": "continental-windows",
   "metadata": {},
   "outputs": [
    {
     "name": "stdout",
     "output_type": "stream",
     "text": [
      "sample size :  61999\n",
      "0번째 샘플 단어 시퀀스 :  ['가락지빵', '주문', '하', '고', '싶', '어요']\n",
      "0번째 샘플 bio tag :  ['B_FOOD', 'O', 'O', 'O', 'O', 'O']\n",
      "sample sequence maxlen :  168\n",
      "sample sequence average len :  8.796238649010467\n"
     ]
    }
   ],
   "source": [
    "# 전처리 객체\n",
    "p = Preprocess(word2index_dic='../../train_tools/dict/chatbot_dict.bin',\n",
    "               userdic='../../utils/user_dic.tsv')\n",
    "\n",
    "# 학습용 말뭉치 데이터\n",
    "corpus = read_file('ner_train.txt')\n",
    "\n",
    "# 말뭉치 데이터에서 단어와 BIO 태그만 불러와 학습용 데이터셋 생성\n",
    "sentences, tags = [], []\n",
    "for t in corpus :\n",
    "    tagged_sentence = []\n",
    "    sentence, bio_tag = [], []\n",
    "    for w in t:\n",
    "        tagged_sentence.append((w[1],w[3]))\n",
    "        sentence.append(w[1])\n",
    "        bio_tag.append(w[3])\n",
    "    sentences.append(sentence)\n",
    "    tags.append(bio_tag)\n",
    "\n",
    "print(\"sample size : \", len(sentences))\n",
    "print(\"0번째 샘플 단어 시퀀스 : \", sentences[0])\n",
    "print(\"0번째 샘플 bio tag : \", tags[0])\n",
    "print(\"sample sequence maxlen : \", max(len(l) for l in sentences))\n",
    "print(\"sample sequence average len : \", (sum(map(len, sentences))/len(sentences)))"
   ]
  },
  {
   "cell_type": "code",
   "execution_count": 4,
   "id": "ultimate-hearing",
   "metadata": {},
   "outputs": [
    {
     "name": "stdout",
     "output_type": "stream",
     "text": [
      "BIO 태그 사전 크기 :  10\n",
      "단어 사전 크기 :  17751\n",
      "학습 샘플 시퀀스 shape (44639, 40)\n",
      "학습 샘플 label shape (44639, 40, 10)\n",
      "valid 샘플 시퀀스 shape (11160, 40)\n",
      "valid 샘플 label shape (11160, 40, 10)\n",
      "test 샘플 시퀀스 shape (6200, 40)\n",
      "test 샘플 label shape (6200, 40, 10)\n"
     ]
    }
   ],
   "source": [
    "# 토크나이저 정의\n",
    "tag_tokenizer = preprocessing.text.Tokenizer(lower=False)\n",
    "tag_tokenizer.fit_on_texts(tags)\n",
    "\n",
    "# 단어 사전 및 태그 사전 크기\n",
    "vocab_size = len(p.word_index) + 1\n",
    "tag_size = len(tag_tokenizer.word_index) + 1\n",
    "print(\"BIO 태그 사전 크기 : \", tag_size) # BIO(Beginning, Inside, Outside Tag), KoreanNERCorpus 참고\n",
    "print(\"단어 사전 크기 : \", vocab_size)\n",
    "\n",
    "'''\n",
    "B_FOOD : 음식\n",
    "B_DT, B_TI : 날짜, 시간 ~ 학습 데이터에서 날짜와 시간 혼용 사용\n",
    "B_PS : 사람\n",
    "B_OG : 조직, 회사\n",
    "B_LC : 지역\n",
    "'''\n",
    "\n",
    "# 학습용 단어 시퀀스 생성\n",
    "X = [p.get_wordidx_sequence(sent) for sent in sentences]\n",
    "y = tag_tokenizer.texts_to_sequences(tags)\n",
    "\n",
    "index_to_ner = tag_tokenizer.index_word\n",
    "index_to_ner[0] = 'PAD'\n",
    "\n",
    "# 시퀀스 패딩 처리\n",
    "max_len = 40\n",
    "X = preprocessing.sequence.pad_sequences(X, padding='post', maxlen=max_len)\n",
    "y = preprocessing.sequence.pad_sequences(y, padding='post', maxlen=max_len)\n",
    "\n",
    "x_train, x_test, y_train, y_test = train_test_split(X, y, test_size=.1, random_state=2021)\n",
    "x_train, x_valid, y_train, y_valid = train_test_split(x_train, y_train, test_size=.2, random_state=2021)\n",
    "\n",
    "# 출력 데이터 One-Hot Encoding\n",
    "y_train = tf.keras.utils.to_categorical(y_train, num_classes=tag_size)\n",
    "y_valid = tf.keras.utils.to_categorical(y_valid, num_classes=tag_size)\n",
    "y_test = tf.keras.utils.to_categorical(y_test, num_classes=tag_size)\n",
    "\n",
    "print(\"학습 샘플 시퀀스 shape\", x_train.shape)\n",
    "print(\"학습 샘플 label shape\", y_train.shape)\n",
    "print(\"valid 샘플 시퀀스 shape\", x_valid.shape)\n",
    "print(\"valid 샘플 label shape\", y_valid.shape)\n",
    "print(\"test 샘플 시퀀스 shape\", x_test.shape)\n",
    "print(\"test 샘플 label shape\", y_test.shape)"
   ]
  },
  {
   "cell_type": "code",
   "execution_count": 5,
   "id": "thermal-economics",
   "metadata": {},
   "outputs": [
    {
     "name": "stdout",
     "output_type": "stream",
     "text": [
      "Epoch 1/10\n",
      "349/349 [==============================] - ETA: 0s - loss: 0.0306 - accuracy: 0.9611\n",
      "Epoch 00001: val_loss improved from inf to 0.01267, saving model to ./ner_best_model.h5\n",
      "349/349 [==============================] - 35s 101ms/step - loss: 0.0306 - accuracy: 0.9611 - val_loss: 0.0127 - val_accuracy: 0.9813\n",
      "Epoch 2/10\n",
      "349/349 [==============================] - ETA: 0s - loss: 0.0095 - accuracy: 0.9862\n",
      "Epoch 00002: val_loss improved from 0.01267 to 0.01135, saving model to ./ner_best_model.h5\n",
      "349/349 [==============================] - 36s 102ms/step - loss: 0.0095 - accuracy: 0.9862 - val_loss: 0.0113 - val_accuracy: 0.9845\n",
      "Epoch 3/10\n",
      "349/349 [==============================] - ETA: 0s - loss: 0.0062 - accuracy: 0.9907\n",
      "Epoch 00003: val_loss improved from 0.01135 to 0.00996, saving model to ./ner_best_model.h5\n",
      "349/349 [==============================] - 36s 102ms/step - loss: 0.0062 - accuracy: 0.9907 - val_loss: 0.0100 - val_accuracy: 0.9852\n",
      "Epoch 4/10\n",
      "349/349 [==============================] - ETA: 0s - loss: 0.0048 - accuracy: 0.9927\n",
      "Epoch 00004: val_loss did not improve from 0.00996\n",
      "349/349 [==============================] - 36s 103ms/step - loss: 0.0048 - accuracy: 0.9927 - val_loss: 0.0102 - val_accuracy: 0.9865\n",
      "Epoch 5/10\n",
      "349/349 [==============================] - ETA: 0s - loss: 0.0040 - accuracy: 0.9937\n",
      "Epoch 00005: val_loss did not improve from 0.00996\n",
      "349/349 [==============================] - 36s 102ms/step - loss: 0.0040 - accuracy: 0.9937 - val_loss: 0.0104 - val_accuracy: 0.9863\n",
      "Epoch 6/10\n",
      "349/349 [==============================] - ETA: 0s - loss: 0.0034 - accuracy: 0.9945\n",
      "Epoch 00006: val_loss did not improve from 0.00996\n",
      "349/349 [==============================] - 36s 103ms/step - loss: 0.0034 - accuracy: 0.9945 - val_loss: 0.0116 - val_accuracy: 0.9848\n",
      "Epoch 7/10\n",
      "349/349 [==============================] - ETA: 0s - loss: 0.0032 - accuracy: 0.9949\n",
      "Epoch 00007: val_loss did not improve from 0.00996\n",
      "349/349 [==============================] - 36s 103ms/step - loss: 0.0032 - accuracy: 0.9949 - val_loss: 0.0123 - val_accuracy: 0.9842\n",
      "Epoch 8/10\n",
      "349/349 [==============================] - ETA: 0s - loss: 0.0029 - accuracy: 0.9954\n",
      "Epoch 00008: val_loss did not improve from 0.00996\n",
      "349/349 [==============================] - 36s 103ms/step - loss: 0.0029 - accuracy: 0.9954 - val_loss: 0.0121 - val_accuracy: 0.9857\n",
      "Epoch 9/10\n",
      "349/349 [==============================] - ETA: 0s - loss: 0.0028 - accuracy: 0.9955\n",
      "Epoch 00009: val_loss did not improve from 0.00996\n",
      "349/349 [==============================] - 36s 103ms/step - loss: 0.0028 - accuracy: 0.9955 - val_loss: 0.0129 - val_accuracy: 0.9850\n",
      "Epoch 10/10\n",
      "349/349 [==============================] - ETA: 0s - loss: 0.0027 - accuracy: 0.9957\n",
      "Epoch 00010: val_loss did not improve from 0.00996\n",
      "349/349 [==============================] - 36s 103ms/step - loss: 0.0027 - accuracy: 0.9957 - val_loss: 0.0135 - val_accuracy: 0.9843\n",
      "194/194 [==============================] - 2s 9ms/step - loss: 0.0143 - accuracy: 0.9840\n",
      "평가 결과 :  0.9840385317802429\n"
     ]
    }
   ],
   "source": [
    "# Bi-LSTM\n",
    "model = Sequential()\n",
    "model.add(Embedding(input_dim=vocab_size, output_dim=30, input_length=max_len, mask_zero=True))\n",
    "model.add(Bidirectional(LSTM(200, return_sequences=True, dropout=0.5, recurrent_dropout=0.25)))\n",
    "model.add(TimeDistributed(Dense(tag_size, activation='softmax')))\n",
    "checkpoint = ModelCheckpoint('./ner_best_model.h5', verbose = 1, monitor = 'val_loss', save_best_only = True)\n",
    "model.compile(loss='categorical_crossentropy', optimizer=Adam(0.01), metrics=['accuracy'])\n",
    "history = model.fit(x_train, y_train, batch_size=128, epochs=10, callbacks= checkpoint, verbose=1,\n",
    "                    validation_data=(x_valid, y_valid))\n",
    "\n",
    "print(\"평가 결과 : \", model.evaluate(x_test, y_test)[1])"
   ]
  },
  {
   "cell_type": "code",
   "execution_count": 6,
   "id": "determined-arctic",
   "metadata": {},
   "outputs": [
    {
     "data": {
      "text/plain": [
       "Text(0.5, 1.0, 'loss')"
      ]
     },
     "execution_count": 6,
     "metadata": {},
     "output_type": "execute_result"
    },
    {
     "data": {
      "image/png": "[encoded data removed]",
      "text/plain": [
       "<Figure size 936x288 with 2 Axes>"
      ]
     },
     "metadata": {
      "needs_background": "light"
     },
     "output_type": "display_data"
    }
   ],
   "source": [
    "# Accuracy/validation plots\n",
    "h = history.history\n",
    "fig = plt.figure(figsize = (13, 4))\n",
    "\n",
    "plt.subplot(121)\n",
    "plt.plot(h['accuracy'], label = 'acc')\n",
    "plt.plot(h['val_accuracy'], label = 'val_acc')\n",
    "plt.legend()\n",
    "plt.grid()\n",
    "plt.title(f'accuracy')\n",
    "\n",
    "plt.subplot(122)\n",
    "plt.plot(h['loss'], label = 'loss')\n",
    "plt.plot(h['val_loss'], label = 'val_loss')\n",
    "plt.legend()\n",
    "plt.grid()\n",
    "plt.title(f'loss')"
   ]
  },
  {
   "cell_type": "code",
   "execution_count": 7,
   "id": "compatible-accountability",
   "metadata": {},
   "outputs": [
    {
     "name": "stderr",
     "output_type": "stream",
     "text": [
      "/home/sigmoid/anaconda3/envs/kjt37/lib/python3.7/site-packages/seqeval/metrics/sequence_labeling.py:171: UserWarning: B_DT seems not to be NE tag.\n",
      "  warnings.warn('{} seems not to be NE tag.'.format(chunk))\n",
      "/home/sigmoid/anaconda3/envs/kjt37/lib/python3.7/site-packages/seqeval/metrics/sequence_labeling.py:171: UserWarning: 0 seems not to be NE tag.\n",
      "  warnings.warn('{} seems not to be NE tag.'.format(chunk))\n",
      "/home/sigmoid/anaconda3/envs/kjt37/lib/python3.7/site-packages/seqeval/metrics/sequence_labeling.py:171: UserWarning: B_FOOD seems not to be NE tag.\n",
      "  warnings.warn('{} seems not to be NE tag.'.format(chunk))\n",
      "/home/sigmoid/anaconda3/envs/kjt37/lib/python3.7/site-packages/seqeval/metrics/sequence_labeling.py:171: UserWarning: NNP seems not to be NE tag.\n",
      "  warnings.warn('{} seems not to be NE tag.'.format(chunk))\n",
      "/home/sigmoid/anaconda3/envs/kjt37/lib/python3.7/site-packages/seqeval/metrics/sequence_labeling.py:171: UserWarning: B_PS seems not to be NE tag.\n",
      "  warnings.warn('{} seems not to be NE tag.'.format(chunk))\n",
      "/home/sigmoid/anaconda3/envs/kjt37/lib/python3.7/site-packages/seqeval/metrics/sequence_labeling.py:171: UserWarning: B_LC seems not to be NE tag.\n",
      "  warnings.warn('{} seems not to be NE tag.'.format(chunk))\n",
      "/home/sigmoid/anaconda3/envs/kjt37/lib/python3.7/site-packages/seqeval/metrics/sequence_labeling.py:171: UserWarning: B_OG seems not to be NE tag.\n",
      "  warnings.warn('{} seems not to be NE tag.'.format(chunk))\n",
      "/home/sigmoid/anaconda3/envs/kjt37/lib/python3.7/site-packages/seqeval/metrics/sequence_labeling.py:171: UserWarning: B_TI seems not to be NE tag.\n",
      "  warnings.warn('{} seems not to be NE tag.'.format(chunk))\n"
     ]
    },
    {
     "name": "stdout",
     "output_type": "stream",
     "text": [
      "              precision    recall  f1-score   support\n",
      "\n",
      "          NP       1.00      1.00      1.00      6920\n",
      "           _       0.47      0.59      0.52     12360\n",
      "         _DT       1.00      1.00      1.00    271840\n",
      "       _FOOD       1.00      1.00      1.00    233280\n",
      "         _LC       0.71      0.56      0.63      8160\n",
      "         _OG       0.44      0.52      0.48      8760\n",
      "         _PS       0.61      0.56      0.58      7960\n",
      "         _TI       0.67      0.86      0.76      1440\n",
      "\n",
      "   micro avg       0.96      0.97      0.97    550720\n",
      "   macro avg       0.74      0.76      0.75    550720\n",
      "weighted avg       0.97      0.97      0.97    550720\n",
      "\n",
      "F1-score : 96.59%\n"
     ]
    }
   ],
   "source": [
    "# 시퀀스 NER 태그로 변환\n",
    "def sequences_to_tag(sequences):\n",
    "    result = []\n",
    "    for sequence in sequences:\n",
    "        temp = []\n",
    "        for pred in sequence:\n",
    "            pred_index = np.argmax(pred)\n",
    "            temp.append(index_to_ner[pred_index].replace(\"PAD\", \"0\"))\n",
    "            result.append(temp)\n",
    "    return result\n",
    "\n",
    "y_predicted = model.predict(x_test)\n",
    "pred_tags = sequences_to_tag(y_predicted)\n",
    "test_tags = sequences_to_tag(y_test)\n",
    "\n",
    "print(classification_report(test_tags, pred_tags))\n",
    "print(\"F1-score : {:.2%}\".format(f1_score(test_tags, pred_tags)))"
   ]
  }
 ],
 "metadata": {
  "kernelspec": {
   "display_name": "Python 3",
   "language": "python",
   "name": "python3"
  },
  "language_info": {
   "codemirror_mode": {
    "name": "ipython",
    "version": 3
   },
   "file_extension": ".py",
   "mimetype": "text/x-python",
   "name": "python",
   "nbconvert_exporter": "python",
   "pygments_lexer": "ipython3",
   "version": "3.7.9"
  }
 },
 "nbformat": 4,
 "nbformat_minor": 5
}
