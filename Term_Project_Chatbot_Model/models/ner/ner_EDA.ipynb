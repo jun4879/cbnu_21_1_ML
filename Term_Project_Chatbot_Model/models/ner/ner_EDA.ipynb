{
 "cells": [
  {
   "cell_type": "code",
   "execution_count": 1,
   "id": "polar-helena",
   "metadata": {
    "execution": {
     "iopub.execute_input": "2021-06-07T01:31:44.188127Z",
     "iopub.status.busy": "2021-06-07T01:31:44.188127Z",
     "iopub.status.idle": "2021-06-07T01:31:48.556354Z",
     "shell.execute_reply": "2021-06-07T01:31:48.555333Z",
     "shell.execute_reply.started": "2021-06-07T01:31:44.188127Z"
    }
   },
   "outputs": [],
   "source": [
    "import tensorflow as tf\n",
    "from tensorflow.keras import preprocessing\n",
    "from seqeval.metrics import f1_score, classification_report\n",
    "from sklearn.model_selection import train_test_split\n",
    "import matplotlib.pyplot as plt\n",
    "import numpy as np\n",
    "import pandas as pd\n",
    "import sys\n",
    "sys.path.append('../../utils')\n",
    "from preprocess import Preprocess"
   ]
  },
  {
   "cell_type": "code",
   "execution_count": 2,
   "id": "modified-example",
   "metadata": {
    "execution": {
     "iopub.execute_input": "2021-06-07T01:31:48.557363Z",
     "iopub.status.busy": "2021-06-07T01:31:48.556354Z",
     "iopub.status.idle": "2021-06-07T01:31:48.570737Z",
     "shell.execute_reply": "2021-06-07T01:31:48.570737Z",
     "shell.execute_reply.started": "2021-06-07T01:31:48.557363Z"
    }
   },
   "outputs": [],
   "source": [
    "def read_file(file_name):\n",
    "    sents = []\n",
    "    # 학습 데이터 형태 참고\n",
    "    with open(file_name, 'r', encoding='utf-8') as f:\n",
    "        lines = f.readlines()\n",
    "        for idx, l in enumerate(lines):\n",
    "            if l[0] == ';' and lines[idx+1][0] == '$':\n",
    "                this_sent = []\n",
    "            elif l[0] == '$' and lines[idx-1][0] == ';':\n",
    "                continue\n",
    "            elif l[0] == '\\n':\n",
    "                sents.append(this_sent)\n",
    "            else :\n",
    "                this_sent.append(tuple(l.split()))\n",
    "    return sents"
   ]
  },
  {
   "cell_type": "code",
   "execution_count": 3,
   "id": "worthy-elder",
   "metadata": {
    "execution": {
     "iopub.execute_input": "2021-06-07T01:31:48.572185Z",
     "iopub.status.busy": "2021-06-07T01:31:48.572185Z",
     "iopub.status.idle": "2021-06-07T01:31:54.812431Z",
     "shell.execute_reply": "2021-06-07T01:31:54.811937Z",
     "shell.execute_reply.started": "2021-06-07T01:31:48.572185Z"
    }
   },
   "outputs": [
    {
     "name": "stdout",
     "output_type": "stream",
     "text": [
      "sample size :  61999\n",
      "0번째 샘플 단어 시퀀스 :  ['가락지빵', '주문', '하', '고', '싶', '어요']\n",
      "0번째 샘플 bio tag :  ['B_FOOD', 'O', 'O', 'O', 'O', 'O']\n",
      "sample sequence maxlen :  168\n",
      "sample sequence average len :  8.796238649010467\n"
     ]
    }
   ],
   "source": [
    "# 전처리 객체\n",
    "p = Preprocess(word2index_dic='../../train_tools/dict/chatbot_dict.bin',\n",
    "               userdic='../../utils/user_dic.tsv')\n",
    "\n",
    "# 학습용 말뭉치 데이터\n",
    "corpus = read_file('ner_train.txt')\n",
    "\n",
    "# 말뭉치 데이터에서 단어와 BIO 태그만 불러와 학습용 데이터셋 생성\n",
    "sentences, tags = [], []\n",
    "for t in corpus :\n",
    "    tagged_sentence = []\n",
    "    sentence, bio_tag = [], []\n",
    "    for w in t:\n",
    "        tagged_sentence.append((w[1],w[3]))\n",
    "        sentence.append(w[1])\n",
    "        bio_tag.append(w[3])\n",
    "    sentences.append(sentence)\n",
    "    tags.append(bio_tag)\n",
    "\n",
    "print(\"sample size : \", len(sentences))\n",
    "print(\"0번째 샘플 단어 시퀀스 : \", sentences[0])\n",
    "print(\"0번째 샘플 bio tag : \", tags[0])\n",
    "print(\"sample sequence maxlen : \", max(len(l) for l in sentences))\n",
    "print(\"sample sequence average len : \", (sum(map(len, sentences))/len(sentences)))"
   ]
  },
  {
   "cell_type": "code",
   "execution_count": 4,
   "id": "typical-section",
   "metadata": {
    "execution": {
     "iopub.execute_input": "2021-06-07T01:31:54.814448Z",
     "iopub.status.busy": "2021-06-07T01:31:54.813460Z",
     "iopub.status.idle": "2021-06-07T01:31:54.968804Z",
     "shell.execute_reply": "2021-06-07T01:31:54.966311Z",
     "shell.execute_reply.started": "2021-06-07T01:31:54.814448Z"
    }
   },
   "outputs": [
    {
     "name": "stdout",
     "output_type": "stream",
     "text": [
      "BIO 태그 사전 크기 :  10\n",
      "단어 사전 크기 :  17751\n"
     ]
    },
    {
     "data": {
      "text/plain": [
       "'\\nB_FOOD : 음식\\nB_DT, B_TI : 날짜, 시간 ~ 학습 데이터에서 날짜와 시간 혼용 사용\\nB_PS : 사람\\nB_OG : 조직, 회사\\nB_LC : 지역\\n'"
      ]
     },
     "execution_count": 4,
     "metadata": {},
     "output_type": "execute_result"
    }
   ],
   "source": [
    "# 토크나이저 정의\n",
    "tag_tokenizer = preprocessing.text.Tokenizer(lower=False)\n",
    "tag_tokenizer.fit_on_texts(tags)\n",
    "\n",
    "# 단어 사전 및 태그 사전 크기\n",
    "vocab_size = len(p.word_index) + 1\n",
    "tag_size = len(tag_tokenizer.word_index) + 1\n",
    "print(\"BIO 태그 사전 크기 : \", tag_size) # BIO(Beginning, Inside, Outside Tag), KoreanNERCorpus 참고\n",
    "print(\"단어 사전 크기 : \", vocab_size)\n",
    "\n",
    "'''\n",
    "B_FOOD : 음식\n",
    "B_DT, B_TI : 날짜, 시간 ~ 학습 데이터에서 날짜와 시간 혼용 사용\n",
    "B_PS : 사람\n",
    "B_OG : 조직, 회사\n",
    "B_LC : 지역\n",
    "'''"
   ]
  },
  {
   "cell_type": "code",
   "execution_count": 5,
   "id": "oriented-china",
   "metadata": {
    "execution": {
     "iopub.execute_input": "2021-06-07T01:31:54.969804Z",
     "iopub.status.busy": "2021-06-07T01:31:54.968804Z",
     "iopub.status.idle": "2021-06-07T01:31:54.982186Z",
     "shell.execute_reply": "2021-06-07T01:31:54.981533Z",
     "shell.execute_reply.started": "2021-06-07T01:31:54.969804Z"
    },
    "tags": []
   },
   "outputs": [
    {
     "data": {
      "text/plain": [
       "[('가락지빵', 'B_FOOD'),\n",
       " ('주문', 'O'),\n",
       " ('하', 'O'),\n",
       " ('고', 'O'),\n",
       " ('싶', 'O'),\n",
       " ('어요', 'O')]"
      ]
     },
     "execution_count": 5,
     "metadata": {},
     "output_type": "execute_result"
    }
   ],
   "source": [
    "zip_test = list(zip(sentences[0],tags[0]))\n",
    "zip_test"
   ]
  },
  {
   "cell_type": "code",
   "execution_count": 6,
   "id": "composed-senate",
   "metadata": {
    "execution": {
     "iopub.execute_input": "2021-06-07T01:31:54.984263Z",
     "iopub.status.busy": "2021-06-07T01:31:54.983265Z",
     "iopub.status.idle": "2021-06-07T01:31:54.996876Z",
     "shell.execute_reply": "2021-06-07T01:31:54.996375Z",
     "shell.execute_reply.started": "2021-06-07T01:31:54.984263Z"
    },
    "tags": []
   },
   "outputs": [
    {
     "data": {
      "text/plain": [
       "('가락지빵', 'B_FOOD')"
      ]
     },
     "execution_count": 6,
     "metadata": {},
     "output_type": "execute_result"
    }
   ],
   "source": [
    "zip_test[0]"
   ]
  },
  {
   "cell_type": "code",
   "execution_count": 7,
   "id": "identical-emphasis",
   "metadata": {
    "execution": {
     "iopub.execute_input": "2021-06-07T01:31:54.998724Z",
     "iopub.status.busy": "2021-06-07T01:31:54.997711Z",
     "iopub.status.idle": "2021-06-07T01:32:18.997513Z",
     "shell.execute_reply": "2021-06-07T01:32:18.996513Z",
     "shell.execute_reply.started": "2021-06-07T01:31:54.998724Z"
    }
   },
   "outputs": [
    {
     "data": {
      "text/html": [
       "<div>\n",
       "<style scoped>\n",
       "    .dataframe tbody tr th:only-of-type {\n",
       "        vertical-align: middle;\n",
       "    }\n",
       "\n",
       "    .dataframe tbody tr th {\n",
       "        vertical-align: top;\n",
       "    }\n",
       "\n",
       "    .dataframe thead th {\n",
       "        text-align: right;\n",
       "    }\n",
       "</style>\n",
       "<table border=\"1\" class=\"dataframe\">\n",
       "  <thead>\n",
       "    <tr style=\"text-align: right;\">\n",
       "      <th></th>\n",
       "      <th>word</th>\n",
       "      <th>tag</th>\n",
       "    </tr>\n",
       "  </thead>\n",
       "  <tbody>\n",
       "    <tr>\n",
       "      <th>0</th>\n",
       "      <td>가락지빵</td>\n",
       "      <td>B_FOOD</td>\n",
       "    </tr>\n",
       "    <tr>\n",
       "      <th>1</th>\n",
       "      <td>주문</td>\n",
       "      <td>O</td>\n",
       "    </tr>\n",
       "    <tr>\n",
       "      <th>2</th>\n",
       "      <td>하</td>\n",
       "      <td>O</td>\n",
       "    </tr>\n",
       "    <tr>\n",
       "      <th>3</th>\n",
       "      <td>고</td>\n",
       "      <td>O</td>\n",
       "    </tr>\n",
       "    <tr>\n",
       "      <th>4</th>\n",
       "      <td>싶</td>\n",
       "      <td>O</td>\n",
       "    </tr>\n",
       "    <tr>\n",
       "      <th>5</th>\n",
       "      <td>어요</td>\n",
       "      <td>O</td>\n",
       "    </tr>\n",
       "    <tr>\n",
       "      <th>6</th>\n",
       "      <td>가락지빵</td>\n",
       "      <td>B_FOOD</td>\n",
       "    </tr>\n",
       "    <tr>\n",
       "      <th>7</th>\n",
       "      <td>주문</td>\n",
       "      <td>O</td>\n",
       "    </tr>\n",
       "    <tr>\n",
       "      <th>8</th>\n",
       "      <td>하</td>\n",
       "      <td>O</td>\n",
       "    </tr>\n",
       "    <tr>\n",
       "      <th>9</th>\n",
       "      <td>고</td>\n",
       "      <td>O</td>\n",
       "    </tr>\n",
       "    <tr>\n",
       "      <th>10</th>\n",
       "      <td>싶</td>\n",
       "      <td>O</td>\n",
       "    </tr>\n",
       "    <tr>\n",
       "      <th>11</th>\n",
       "      <td>어요</td>\n",
       "      <td>O</td>\n",
       "    </tr>\n",
       "    <tr>\n",
       "      <th>12</th>\n",
       "      <td>가락지빵</td>\n",
       "      <td>B_FOOD</td>\n",
       "    </tr>\n",
       "    <tr>\n",
       "      <th>13</th>\n",
       "      <td>주문</td>\n",
       "      <td>O</td>\n",
       "    </tr>\n",
       "    <tr>\n",
       "      <th>14</th>\n",
       "      <td>하</td>\n",
       "      <td>O</td>\n",
       "    </tr>\n",
       "    <tr>\n",
       "      <th>15</th>\n",
       "      <td>고</td>\n",
       "      <td>O</td>\n",
       "    </tr>\n",
       "    <tr>\n",
       "      <th>16</th>\n",
       "      <td>싶</td>\n",
       "      <td>O</td>\n",
       "    </tr>\n",
       "    <tr>\n",
       "      <th>17</th>\n",
       "      <td>어요</td>\n",
       "      <td>O</td>\n",
       "    </tr>\n",
       "    <tr>\n",
       "      <th>18</th>\n",
       "      <td>가락지빵</td>\n",
       "      <td>B_FOOD</td>\n",
       "    </tr>\n",
       "    <tr>\n",
       "      <th>19</th>\n",
       "      <td>주문</td>\n",
       "      <td>O</td>\n",
       "    </tr>\n",
       "  </tbody>\n",
       "</table>\n",
       "</div>"
      ],
      "text/plain": [
       "    word     tag\n",
       "0   가락지빵  B_FOOD\n",
       "1     주문       O\n",
       "2      하       O\n",
       "3      고       O\n",
       "4      싶       O\n",
       "5     어요       O\n",
       "6   가락지빵  B_FOOD\n",
       "7     주문       O\n",
       "8      하       O\n",
       "9      고       O\n",
       "10     싶       O\n",
       "11    어요       O\n",
       "12  가락지빵  B_FOOD\n",
       "13    주문       O\n",
       "14     하       O\n",
       "15     고       O\n",
       "16     싶       O\n",
       "17    어요       O\n",
       "18  가락지빵  B_FOOD\n",
       "19    주문       O"
      ]
     },
     "execution_count": 7,
     "metadata": {},
     "output_type": "execute_result"
    }
   ],
   "source": [
    "BIO_data_list = []\n",
    "for i in range(len(sentences)):\n",
    "    for j in range(len(sentences[i])):\n",
    "        zip_list = list(zip(sentences[i],tags[i]))\n",
    "        for word_tag_set in zip_list:\n",
    "            BIO_data_list.append(word_tag_set)\n",
    "            \n",
    "ner_data = pd.DataFrame(BIO_data_list,\n",
    "               columns =['word', 'tag'])\n",
    "ner_data.head(20)"
   ]
  },
  {
   "cell_type": "code",
   "execution_count": 8,
   "id": "departmental-thumbnail",
   "metadata": {
    "execution": {
     "iopub.execute_input": "2021-06-07T01:32:18.998521Z",
     "iopub.status.busy": "2021-06-07T01:32:18.998521Z",
     "iopub.status.idle": "2021-06-07T01:32:19.915120Z",
     "shell.execute_reply": "2021-06-07T01:32:19.915120Z",
     "shell.execute_reply.started": "2021-06-07T01:32:18.998521Z"
    },
    "tags": []
   },
   "outputs": [
    {
     "data": {
      "text/html": [
       "<div>\n",
       "<style scoped>\n",
       "    .dataframe tbody tr th:only-of-type {\n",
       "        vertical-align: middle;\n",
       "    }\n",
       "\n",
       "    .dataframe tbody tr th {\n",
       "        vertical-align: top;\n",
       "    }\n",
       "\n",
       "    .dataframe thead th {\n",
       "        text-align: right;\n",
       "    }\n",
       "</style>\n",
       "<table border=\"1\" class=\"dataframe\">\n",
       "  <thead>\n",
       "    <tr style=\"text-align: right;\">\n",
       "      <th></th>\n",
       "      <th>word</th>\n",
       "      <th>tag</th>\n",
       "    </tr>\n",
       "  </thead>\n",
       "  <tbody>\n",
       "    <tr>\n",
       "      <th>0</th>\n",
       "      <td>가락지빵</td>\n",
       "      <td>B_FOOD</td>\n",
       "    </tr>\n",
       "    <tr>\n",
       "      <th>1</th>\n",
       "      <td>주문</td>\n",
       "      <td>O</td>\n",
       "    </tr>\n",
       "    <tr>\n",
       "      <th>2</th>\n",
       "      <td>하</td>\n",
       "      <td>O</td>\n",
       "    </tr>\n",
       "    <tr>\n",
       "      <th>3</th>\n",
       "      <td>고</td>\n",
       "      <td>O</td>\n",
       "    </tr>\n",
       "    <tr>\n",
       "      <th>4</th>\n",
       "      <td>싶</td>\n",
       "      <td>O</td>\n",
       "    </tr>\n",
       "    <tr>\n",
       "      <th>5</th>\n",
       "      <td>어요</td>\n",
       "      <td>O</td>\n",
       "    </tr>\n",
       "    <tr>\n",
       "      <th>37</th>\n",
       "      <td>먹</td>\n",
       "      <td>O</td>\n",
       "    </tr>\n",
       "    <tr>\n",
       "      <th>87</th>\n",
       "      <td>원</td>\n",
       "      <td>O</td>\n",
       "    </tr>\n",
       "    <tr>\n",
       "      <th>103</th>\n",
       "      <td>어떻</td>\n",
       "      <td>O</td>\n",
       "    </tr>\n",
       "    <tr>\n",
       "      <th>104</th>\n",
       "      <td>게</td>\n",
       "      <td>O</td>\n",
       "    </tr>\n",
       "    <tr>\n",
       "      <th>106</th>\n",
       "      <td>아야</td>\n",
       "      <td>O</td>\n",
       "    </tr>\n",
       "    <tr>\n",
       "      <th>107</th>\n",
       "      <td>되</td>\n",
       "      <td>O</td>\n",
       "    </tr>\n",
       "    <tr>\n",
       "      <th>108</th>\n",
       "      <td>요</td>\n",
       "      <td>O</td>\n",
       "    </tr>\n",
       "    <tr>\n",
       "      <th>109</th>\n",
       "      <td>?</td>\n",
       "      <td>O</td>\n",
       "    </tr>\n",
       "    <tr>\n",
       "      <th>172</th>\n",
       "      <td>어</td>\n",
       "      <td>O</td>\n",
       "    </tr>\n",
       "    <tr>\n",
       "      <th>219</th>\n",
       "      <td>은데</td>\n",
       "      <td>O</td>\n",
       "    </tr>\n",
       "    <tr>\n",
       "      <th>241</th>\n",
       "      <td>알리</td>\n",
       "      <td>O</td>\n",
       "    </tr>\n",
       "    <tr>\n",
       "      <th>243</th>\n",
       "      <td>주</td>\n",
       "      <td>O</td>\n",
       "    </tr>\n",
       "    <tr>\n",
       "      <th>266</th>\n",
       "      <td>가르치</td>\n",
       "      <td>O</td>\n",
       "    </tr>\n",
       "    <tr>\n",
       "      <th>294</th>\n",
       "      <td>다</td>\n",
       "      <td>O</td>\n",
       "    </tr>\n",
       "  </tbody>\n",
       "</table>\n",
       "</div>"
      ],
      "text/plain": [
       "     word     tag\n",
       "0    가락지빵  B_FOOD\n",
       "1      주문       O\n",
       "2       하       O\n",
       "3       고       O\n",
       "4       싶       O\n",
       "5      어요       O\n",
       "37      먹       O\n",
       "87      원       O\n",
       "103    어떻       O\n",
       "104     게       O\n",
       "106    아야       O\n",
       "107     되       O\n",
       "108     요       O\n",
       "109     ?       O\n",
       "172     어       O\n",
       "219    은데       O\n",
       "241    알리       O\n",
       "243     주       O\n",
       "266   가르치       O\n",
       "294     다       O"
      ]
     },
     "execution_count": 8,
     "metadata": {},
     "output_type": "execute_result"
    }
   ],
   "source": [
    "ner_unique_data = ner_data.drop_duplicates(['word'], keep='first')\n",
    "ner_unique_data.head(20)"
   ]
  },
  {
   "cell_type": "code",
   "execution_count": 16,
   "id": "olympic-faculty",
   "metadata": {
    "execution": {
     "iopub.execute_input": "2021-06-07T01:53:27.534379Z",
     "iopub.status.busy": "2021-06-07T01:53:27.534379Z",
     "iopub.status.idle": "2021-06-07T01:53:27.561578Z",
     "shell.execute_reply": "2021-06-07T01:53:27.561151Z",
     "shell.execute_reply.started": "2021-06-07T01:53:27.534379Z"
    },
    "tags": []
   },
   "outputs": [
    {
     "name": "stdout",
     "output_type": "stream",
     "text": [
      "<class 'pandas.core.frame.DataFrame'>\n",
      "Int64Index: 14174 entries, 0 to 7188948\n",
      "Data columns (total 2 columns):\n",
      " #   Column  Non-Null Count  Dtype \n",
      "---  ------  --------------  ----- \n",
      " 0   word    14174 non-null  object\n",
      " 1   tag     14174 non-null  object\n",
      "dtypes: object(2)\n",
      "memory usage: 332.2+ KB\n"
     ]
    }
   ],
   "source": [
    "ner_unique_data.info(20)"
   ]
  },
  {
   "cell_type": "code",
   "execution_count": 9,
   "id": "simplified-riverside",
   "metadata": {
    "execution": {
     "iopub.execute_input": "2021-06-07T01:32:57.004577Z",
     "iopub.status.busy": "2021-06-07T01:32:57.004577Z",
     "iopub.status.idle": "2021-06-07T01:32:57.018708Z",
     "shell.execute_reply": "2021-06-07T01:32:57.018221Z",
     "shell.execute_reply.started": "2021-06-07T01:32:57.004577Z"
    },
    "tags": []
   },
   "outputs": [
    {
     "data": {
      "text/plain": [
       "O         9568\n",
       "B_PS      1487\n",
       "B_OG      1144\n",
       "I          792\n",
       "B_LC       698\n",
       "B_FOOD     239\n",
       "B_DT       229\n",
       "B_TI        17\n",
       "Name: tag, dtype: int64"
      ]
     },
     "execution_count": 9,
     "metadata": {},
     "output_type": "execute_result"
    }
   ],
   "source": [
    "ner_unique_data['tag'].value_counts()"
   ]
  },
  {
   "cell_type": "code",
   "execution_count": 15,
   "id": "smooth-jacksonville",
   "metadata": {
    "execution": {
     "iopub.execute_input": "2021-06-07T01:52:54.107341Z",
     "iopub.status.busy": "2021-06-07T01:52:54.107341Z",
     "iopub.status.idle": "2021-06-07T01:52:54.121504Z",
     "shell.execute_reply": "2021-06-07T01:52:54.121030Z",
     "shell.execute_reply.started": "2021-06-07T01:52:54.107341Z"
    },
    "tags": []
   },
   "outputs": [
    {
     "data": {
      "text/html": [
       "<div>\n",
       "<style scoped>\n",
       "    .dataframe tbody tr th:only-of-type {\n",
       "        vertical-align: middle;\n",
       "    }\n",
       "\n",
       "    .dataframe tbody tr th {\n",
       "        vertical-align: top;\n",
       "    }\n",
       "\n",
       "    .dataframe thead th {\n",
       "        text-align: right;\n",
       "    }\n",
       "</style>\n",
       "<table border=\"1\" class=\"dataframe\">\n",
       "  <thead>\n",
       "    <tr style=\"text-align: right;\">\n",
       "      <th></th>\n",
       "      <th>word</th>\n",
       "      <th>tag</th>\n",
       "    </tr>\n",
       "  </thead>\n",
       "  <tbody>\n",
       "    <tr>\n",
       "      <th>1645358</th>\n",
       "      <td>E</td>\n",
       "      <td>B_OG</td>\n",
       "    </tr>\n",
       "    <tr>\n",
       "      <th>1646909</th>\n",
       "      <td>AP</td>\n",
       "      <td>B_OG</td>\n",
       "    </tr>\n",
       "    <tr>\n",
       "      <th>1646942</th>\n",
       "      <td>디트로이트</td>\n",
       "      <td>B_OG</td>\n",
       "    </tr>\n",
       "    <tr>\n",
       "      <th>1650284</th>\n",
       "      <td>메이저리그</td>\n",
       "      <td>B_OG</td>\n",
       "    </tr>\n",
       "    <tr>\n",
       "      <th>1651797</th>\n",
       "      <td>프리미어</td>\n",
       "      <td>B_OG</td>\n",
       "    </tr>\n",
       "    <tr>\n",
       "      <th>...</th>\n",
       "      <td>...</td>\n",
       "      <td>...</td>\n",
       "    </tr>\n",
       "    <tr>\n",
       "      <th>7156372</th>\n",
       "      <td>락앤락</td>\n",
       "      <td>B_OG</td>\n",
       "    </tr>\n",
       "    <tr>\n",
       "      <th>7161531</th>\n",
       "      <td>보광</td>\n",
       "      <td>B_OG</td>\n",
       "    </tr>\n",
       "    <tr>\n",
       "      <th>7164920</th>\n",
       "      <td>삼성물산</td>\n",
       "      <td>B_OG</td>\n",
       "    </tr>\n",
       "    <tr>\n",
       "      <th>7165994</th>\n",
       "      <td>선인완궈</td>\n",
       "      <td>B_OG</td>\n",
       "    </tr>\n",
       "    <tr>\n",
       "      <th>7166004</th>\n",
       "      <td>닝보</td>\n",
       "      <td>B_OG</td>\n",
       "    </tr>\n",
       "  </tbody>\n",
       "</table>\n",
       "<p>1144 rows × 2 columns</p>\n",
       "</div>"
      ],
      "text/plain": [
       "          word   tag\n",
       "1645358      E  B_OG\n",
       "1646909     AP  B_OG\n",
       "1646942  디트로이트  B_OG\n",
       "1650284  메이저리그  B_OG\n",
       "1651797   프리미어  B_OG\n",
       "...        ...   ...\n",
       "7156372    락앤락  B_OG\n",
       "7161531     보광  B_OG\n",
       "7164920   삼성물산  B_OG\n",
       "7165994   선인완궈  B_OG\n",
       "7166004     닝보  B_OG\n",
       "\n",
       "[1144 rows x 2 columns]"
      ]
     },
     "execution_count": 15,
     "metadata": {},
     "output_type": "execute_result"
    }
   ],
   "source": [
    "ner_unique_data[ner_unique_data['tag']=='B_OG']"
   ]
  },
  {
   "cell_type": "code",
   "execution_count": 14,
   "id": "positive-sheep",
   "metadata": {
    "execution": {
     "iopub.execute_input": "2021-06-07T01:49:59.194415Z",
     "iopub.status.busy": "2021-06-07T01:49:59.194415Z",
     "iopub.status.idle": "2021-06-07T01:49:59.219497Z",
     "shell.execute_reply": "2021-06-07T01:49:59.218998Z",
     "shell.execute_reply.started": "2021-06-07T01:49:59.194415Z"
    },
    "tags": []
   },
   "outputs": [
    {
     "data": {
      "text/html": [
       "<div>\n",
       "<style scoped>\n",
       "    .dataframe tbody tr th:only-of-type {\n",
       "        vertical-align: middle;\n",
       "    }\n",
       "\n",
       "    .dataframe tbody tr th {\n",
       "        vertical-align: top;\n",
       "    }\n",
       "\n",
       "    .dataframe thead th {\n",
       "        text-align: right;\n",
       "    }\n",
       "</style>\n",
       "<table border=\"1\" class=\"dataframe\">\n",
       "  <thead>\n",
       "    <tr style=\"text-align: right;\">\n",
       "      <th></th>\n",
       "      <th>word</th>\n",
       "      <th>tag</th>\n",
       "    </tr>\n",
       "  </thead>\n",
       "  <tbody>\n",
       "    <tr>\n",
       "      <th>1645763</th>\n",
       "      <td>박명환</td>\n",
       "      <td>B_PS</td>\n",
       "    </tr>\n",
       "    <tr>\n",
       "      <th>1646919</th>\n",
       "      <td>올라주원</td>\n",
       "      <td>B_PS</td>\n",
       "    </tr>\n",
       "    <tr>\n",
       "      <th>1646921</th>\n",
       "      <td>유잉</td>\n",
       "      <td>B_PS</td>\n",
       "    </tr>\n",
       "    <tr>\n",
       "      <th>1646926</th>\n",
       "      <td>애드리언</td>\n",
       "      <td>B_PS</td>\n",
       "    </tr>\n",
       "    <tr>\n",
       "      <th>1646929</th>\n",
       "      <td>팻</td>\n",
       "      <td>B_PS</td>\n",
       "    </tr>\n",
       "    <tr>\n",
       "      <th>...</th>\n",
       "      <td>...</td>\n",
       "      <td>...</td>\n",
       "    </tr>\n",
       "    <tr>\n",
       "      <th>7082432</th>\n",
       "      <td>박연경</td>\n",
       "      <td>B_PS</td>\n",
       "    </tr>\n",
       "    <tr>\n",
       "      <th>7083600</th>\n",
       "      <td>김진영</td>\n",
       "      <td>B_PS</td>\n",
       "    </tr>\n",
       "    <tr>\n",
       "      <th>7083605</th>\n",
       "      <td>쇼팽</td>\n",
       "      <td>B_PS</td>\n",
       "    </tr>\n",
       "    <tr>\n",
       "      <th>7083607</th>\n",
       "      <td>드뷔시</td>\n",
       "      <td>B_PS</td>\n",
       "    </tr>\n",
       "    <tr>\n",
       "      <th>7088052</th>\n",
       "      <td>이동미</td>\n",
       "      <td>B_PS</td>\n",
       "    </tr>\n",
       "  </tbody>\n",
       "</table>\n",
       "<p>1487 rows × 2 columns</p>\n",
       "</div>"
      ],
      "text/plain": [
       "         word   tag\n",
       "1645763   박명환  B_PS\n",
       "1646919  올라주원  B_PS\n",
       "1646921    유잉  B_PS\n",
       "1646926  애드리언  B_PS\n",
       "1646929     팻  B_PS\n",
       "...       ...   ...\n",
       "7082432   박연경  B_PS\n",
       "7083600   김진영  B_PS\n",
       "7083605    쇼팽  B_PS\n",
       "7083607   드뷔시  B_PS\n",
       "7088052   이동미  B_PS\n",
       "\n",
       "[1487 rows x 2 columns]"
      ]
     },
     "execution_count": 14,
     "metadata": {},
     "output_type": "execute_result"
    }
   ],
   "source": [
    "ner_unique_data[ner_unique_data['tag']=='B_PS']"
   ]
  }
 ],
 "metadata": {
  "kernelspec": {
   "display_name": "Python 3",
   "language": "python",
   "name": "python3"
  },
  "language_info": {
   "codemirror_mode": {
    "name": "ipython",
    "version": 3
   },
   "file_extension": ".py",
   "mimetype": "text/x-python",
   "name": "python",
   "nbconvert_exporter": "python",
   "pygments_lexer": "ipython3",
   "version": "3.7.9"
  }
 },
 "nbformat": 4,
 "nbformat_minor": 5
}
