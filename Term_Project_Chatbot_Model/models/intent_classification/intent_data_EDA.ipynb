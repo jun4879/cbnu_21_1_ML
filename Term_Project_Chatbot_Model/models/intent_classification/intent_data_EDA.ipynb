{
 "cells": [
  {
   "cell_type": "code",
   "execution_count": 1,
   "id": "atlantic-programmer",
   "metadata": {
    "execution": {
     "iopub.execute_input": "2021-05-27T07:07:48.110865Z",
     "iopub.status.busy": "2021-05-27T07:07:48.109864Z",
     "iopub.status.idle": "2021-05-27T07:08:00.653456Z",
     "shell.execute_reply": "2021-05-27T07:08:00.652956Z",
     "shell.execute_reply.started": "2021-05-27T07:07:48.109864Z"
    },
    "tags": []
   },
   "outputs": [],
   "source": [
    "import pandas as pd\n",
    "import tensorflow as tf\n",
    "from tensorflow.keras import preprocessing\n",
    "from tensorflow.keras.models import Model\n",
    "from tensorflow.keras.layers import Input, Embedding, Dense, Dropout, Conv1D, GlobalMaxPool1D, concatenate"
   ]
  },
  {
   "cell_type": "markdown",
   "id": "intermediate-legislation",
   "metadata": {},
   "source": [
    "### 데이터 구조\n",
    "- query : 발화 내용\n",
    "- intent\n",
    "    - 0 : 인사\n",
    "    - 1 : 욕설\n",
    "    - 2 : 주문\n",
    "    - 3 : 예약\n",
    "    - 4 : 기타"
   ]
  },
  {
   "cell_type": "code",
   "execution_count": 2,
   "id": "advisory-blanket",
   "metadata": {
    "execution": {
     "iopub.execute_input": "2021-05-27T07:08:00.654463Z",
     "iopub.status.busy": "2021-05-27T07:08:00.654463Z",
     "iopub.status.idle": "2021-05-27T07:08:00.776460Z",
     "shell.execute_reply": "2021-05-27T07:08:00.775959Z",
     "shell.execute_reply.started": "2021-05-27T07:08:00.654463Z"
    },
    "tags": []
   },
   "outputs": [
    {
     "data": {
      "text/html": [
       "<div>\n",
       "<style scoped>\n",
       "    .dataframe tbody tr th:only-of-type {\n",
       "        vertical-align: middle;\n",
       "    }\n",
       "\n",
       "    .dataframe tbody tr th {\n",
       "        vertical-align: top;\n",
       "    }\n",
       "\n",
       "    .dataframe thead th {\n",
       "        text-align: right;\n",
       "    }\n",
       "</style>\n",
       "<table border=\"1\" class=\"dataframe\">\n",
       "  <thead>\n",
       "    <tr style=\"text-align: right;\">\n",
       "      <th></th>\n",
       "      <th>query</th>\n",
       "      <th>intent</th>\n",
       "    </tr>\n",
       "  </thead>\n",
       "  <tbody>\n",
       "    <tr>\n",
       "      <th>0</th>\n",
       "      <td>헬로우</td>\n",
       "      <td>0</td>\n",
       "    </tr>\n",
       "    <tr>\n",
       "      <th>1</th>\n",
       "      <td>헬로</td>\n",
       "      <td>0</td>\n",
       "    </tr>\n",
       "    <tr>\n",
       "      <th>2</th>\n",
       "      <td>안부 인사드립니다.</td>\n",
       "      <td>0</td>\n",
       "    </tr>\n",
       "    <tr>\n",
       "      <th>3</th>\n",
       "      <td>먼저 인사하려고 했는데 짝남이 먼저 인사해줬어. 더 떨렸겠어요.</td>\n",
       "      <td>0</td>\n",
       "    </tr>\n",
       "    <tr>\n",
       "      <th>4</th>\n",
       "      <td>먼저 인사할까 했는데 짝녀가 먼저 인사해줬어. 기분 좋았겠네요.</td>\n",
       "      <td>0</td>\n",
       "    </tr>\n",
       "  </tbody>\n",
       "</table>\n",
       "</div>"
      ],
      "text/plain": [
       "                                 query  intent\n",
       "0                                  헬로우       0\n",
       "1                                   헬로       0\n",
       "2                           안부 인사드립니다.       0\n",
       "3  먼저 인사하려고 했는데 짝남이 먼저 인사해줬어. 더 떨렸겠어요.       0\n",
       "4  먼저 인사할까 했는데 짝녀가 먼저 인사해줬어. 기분 좋았겠네요.       0"
      ]
     },
     "execution_count": 2,
     "metadata": {},
     "output_type": "execute_result"
    }
   ],
   "source": [
    "train_file = \"total_train_data.csv\"\n",
    "data = pd.read_csv(train_file, delimiter=',')\n",
    "data.head()"
   ]
  },
  {
   "cell_type": "code",
   "execution_count": 4,
   "id": "native-pressure",
   "metadata": {
    "execution": {
     "iopub.execute_input": "2021-05-27T07:10:22.735949Z",
     "iopub.status.busy": "2021-05-27T07:10:22.735949Z",
     "iopub.status.idle": "2021-05-27T07:10:22.755451Z",
     "shell.execute_reply": "2021-05-27T07:10:22.754453Z",
     "shell.execute_reply.started": "2021-05-27T07:10:22.735949Z"
    },
    "tags": []
   },
   "outputs": [
    {
     "data": {
      "text/html": [
       "<div>\n",
       "<style scoped>\n",
       "    .dataframe tbody tr th:only-of-type {\n",
       "        vertical-align: middle;\n",
       "    }\n",
       "\n",
       "    .dataframe tbody tr th {\n",
       "        vertical-align: top;\n",
       "    }\n",
       "\n",
       "    .dataframe thead th {\n",
       "        text-align: right;\n",
       "    }\n",
       "</style>\n",
       "<table border=\"1\" class=\"dataframe\">\n",
       "  <thead>\n",
       "    <tr style=\"text-align: right;\">\n",
       "      <th></th>\n",
       "      <th>query</th>\n",
       "      <th>intent</th>\n",
       "    </tr>\n",
       "  </thead>\n",
       "  <tbody>\n",
       "    <tr>\n",
       "      <th>105653</th>\n",
       "      <td>힘든 연애 좋은 연애라는게 무슨 차이일까? 잘 헤어질 수 있는 사이 여부인 거 같아요.</td>\n",
       "      <td>4</td>\n",
       "    </tr>\n",
       "    <tr>\n",
       "      <th>105654</th>\n",
       "      <td>힘들어서 결혼할까봐 도피성 결혼은 하지 않길 바라요.</td>\n",
       "      <td>4</td>\n",
       "    </tr>\n",
       "    <tr>\n",
       "      <th>105655</th>\n",
       "      <td>오키</td>\n",
       "      <td>4</td>\n",
       "    </tr>\n",
       "    <tr>\n",
       "      <th>105656</th>\n",
       "      <td>도키</td>\n",
       "      <td>4</td>\n",
       "    </tr>\n",
       "    <tr>\n",
       "      <th>105657</th>\n",
       "      <td>ㅋㅋㅋ</td>\n",
       "      <td>4</td>\n",
       "    </tr>\n",
       "  </tbody>\n",
       "</table>\n",
       "</div>"
      ],
      "text/plain": [
       "                                                   query  intent\n",
       "105653  힘든 연애 좋은 연애라는게 무슨 차이일까? 잘 헤어질 수 있는 사이 여부인 거 같아요.       4\n",
       "105654                     힘들어서 결혼할까봐 도피성 결혼은 하지 않길 바라요.       4\n",
       "105655                                                오키       4\n",
       "105656                                                도키       4\n",
       "105657                                               ㅋㅋㅋ       4"
      ]
     },
     "execution_count": 4,
     "metadata": {},
     "output_type": "execute_result"
    }
   ],
   "source": [
    "data.tail()"
   ]
  },
  {
   "cell_type": "code",
   "execution_count": 3,
   "id": "second-defeat",
   "metadata": {
    "execution": {
     "iopub.execute_input": "2021-05-27T07:08:32.929178Z",
     "iopub.status.busy": "2021-05-27T07:08:32.929178Z",
     "iopub.status.idle": "2021-05-27T07:08:32.963826Z",
     "shell.execute_reply": "2021-05-27T07:08:32.963826Z",
     "shell.execute_reply.started": "2021-05-27T07:08:32.929178Z"
    },
    "tags": []
   },
   "outputs": [
    {
     "name": "stdout",
     "output_type": "stream",
     "text": [
      "<class 'pandas.core.frame.DataFrame'>\n",
      "RangeIndex: 105658 entries, 0 to 105657\n",
      "Data columns (total 2 columns):\n",
      " #   Column  Non-Null Count   Dtype \n",
      "---  ------  --------------   ----- \n",
      " 0   query   105658 non-null  object\n",
      " 1   intent  105658 non-null  int64 \n",
      "dtypes: int64(1), object(1)\n",
      "memory usage: 1.6+ MB\n"
     ]
    }
   ],
   "source": [
    "data.info()"
   ]
  }
 ],
 "metadata": {
  "kernelspec": {
   "display_name": "Python 3",
   "language": "python",
   "name": "python3"
  },
  "language_info": {
   "codemirror_mode": {
    "name": "ipython",
    "version": 3
   },
   "file_extension": ".py",
   "mimetype": "text/x-python",
   "name": "python",
   "nbconvert_exporter": "python",
   "pygments_lexer": "ipython3",
   "version": "3.7.9"
  }
 },
 "nbformat": 4,
 "nbformat_minor": 5
}
