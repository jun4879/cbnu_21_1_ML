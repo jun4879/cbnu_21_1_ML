{
 "cells": [
  {
   "cell_type": "code",
   "execution_count": 1,
   "id": "neither-weekend",
   "metadata": {
    "execution": {
     "iopub.execute_input": "2021-06-07T00:52:20.982912Z",
     "iopub.status.busy": "2021-06-07T00:52:20.982912Z",
     "iopub.status.idle": "2021-06-07T00:52:21.553785Z",
     "shell.execute_reply": "2021-06-07T00:52:21.553362Z",
     "shell.execute_reply.started": "2021-06-07T00:52:20.982912Z"
    },
    "tags": []
   },
   "outputs": [],
   "source": [
    "import pandas as pd"
   ]
  },
  {
   "cell_type": "markdown",
   "id": "social-emerald",
   "metadata": {},
   "source": [
    "### 데이터 구조\n",
    "- query : 발화 내용\n",
    "- intent\n",
    "    - 0 : 인사\n",
    "    - 1 : 욕설\n",
    "    - 2 : 주문\n",
    "    - 3 : 예약\n",
    "    - 4 : 기타"
   ]
  },
  {
   "cell_type": "code",
   "execution_count": 2,
   "id": "representative-printing",
   "metadata": {
    "execution": {
     "iopub.execute_input": "2021-06-07T00:52:21.554800Z",
     "iopub.status.busy": "2021-06-07T00:52:21.554800Z",
     "iopub.status.idle": "2021-06-07T00:52:21.662260Z",
     "shell.execute_reply": "2021-06-07T00:52:21.661007Z",
     "shell.execute_reply.started": "2021-06-07T00:52:21.554800Z"
    },
    "tags": []
   },
   "outputs": [
    {
     "data": {
      "text/html": [
       "<div>\n",
       "<style scoped>\n",
       "    .dataframe tbody tr th:only-of-type {\n",
       "        vertical-align: middle;\n",
       "    }\n",
       "\n",
       "    .dataframe tbody tr th {\n",
       "        vertical-align: top;\n",
       "    }\n",
       "\n",
       "    .dataframe thead th {\n",
       "        text-align: right;\n",
       "    }\n",
       "</style>\n",
       "<table border=\"1\" class=\"dataframe\">\n",
       "  <thead>\n",
       "    <tr style=\"text-align: right;\">\n",
       "      <th></th>\n",
       "      <th>query</th>\n",
       "      <th>intent</th>\n",
       "    </tr>\n",
       "  </thead>\n",
       "  <tbody>\n",
       "    <tr>\n",
       "      <th>0</th>\n",
       "      <td>헬로우</td>\n",
       "      <td>0</td>\n",
       "    </tr>\n",
       "    <tr>\n",
       "      <th>1</th>\n",
       "      <td>헬로</td>\n",
       "      <td>0</td>\n",
       "    </tr>\n",
       "    <tr>\n",
       "      <th>2</th>\n",
       "      <td>안부 인사드립니다.</td>\n",
       "      <td>0</td>\n",
       "    </tr>\n",
       "    <tr>\n",
       "      <th>3</th>\n",
       "      <td>먼저 인사하려고 했는데 짝남이 먼저 인사해줬어. 더 떨렸겠어요.</td>\n",
       "      <td>0</td>\n",
       "    </tr>\n",
       "    <tr>\n",
       "      <th>4</th>\n",
       "      <td>먼저 인사할까 했는데 짝녀가 먼저 인사해줬어. 기분 좋았겠네요.</td>\n",
       "      <td>0</td>\n",
       "    </tr>\n",
       "  </tbody>\n",
       "</table>\n",
       "</div>"
      ],
      "text/plain": [
       "                                 query  intent\n",
       "0                                  헬로우       0\n",
       "1                                   헬로       0\n",
       "2                           안부 인사드립니다.       0\n",
       "3  먼저 인사하려고 했는데 짝남이 먼저 인사해줬어. 더 떨렸겠어요.       0\n",
       "4  먼저 인사할까 했는데 짝녀가 먼저 인사해줬어. 기분 좋았겠네요.       0"
      ]
     },
     "execution_count": 2,
     "metadata": {},
     "output_type": "execute_result"
    }
   ],
   "source": [
    "train_file = \"total_train_data.csv\"\n",
    "data = pd.read_csv(train_file, delimiter=',')\n",
    "data.head()"
   ]
  },
  {
   "cell_type": "code",
   "execution_count": 3,
   "id": "interesting-middle",
   "metadata": {
    "execution": {
     "iopub.execute_input": "2021-06-07T00:52:21.662260Z",
     "iopub.status.busy": "2021-06-07T00:52:21.662260Z",
     "iopub.status.idle": "2021-06-07T00:52:21.692843Z",
     "shell.execute_reply": "2021-06-07T00:52:21.691257Z",
     "shell.execute_reply.started": "2021-06-07T00:52:21.662260Z"
    },
    "tags": []
   },
   "outputs": [
    {
     "name": "stdout",
     "output_type": "stream",
     "text": [
      "<class 'pandas.core.frame.DataFrame'>\n",
      "RangeIndex: 105658 entries, 0 to 105657\n",
      "Data columns (total 2 columns):\n",
      " #   Column  Non-Null Count   Dtype \n",
      "---  ------  --------------   ----- \n",
      " 0   query   105658 non-null  object\n",
      " 1   intent  105658 non-null  int64 \n",
      "dtypes: int64(1), object(1)\n",
      "memory usage: 1.6+ MB\n"
     ]
    }
   ],
   "source": [
    "data.info()"
   ]
  },
  {
   "cell_type": "code",
   "execution_count": 5,
   "id": "composite-machinery",
   "metadata": {
    "execution": {
     "iopub.execute_input": "2021-06-07T00:52:26.038698Z",
     "iopub.status.busy": "2021-06-07T00:52:26.037620Z",
     "iopub.status.idle": "2021-06-07T00:52:26.054355Z",
     "shell.execute_reply": "2021-06-07T00:52:26.053901Z",
     "shell.execute_reply.started": "2021-06-07T00:52:26.038698Z"
    },
    "tags": []
   },
   "outputs": [
    {
     "data": {
      "text/plain": [
       "3    53086\n",
       "2    39061\n",
       "4    11800\n",
       "1     1590\n",
       "0      121\n",
       "Name: intent, dtype: int64"
      ]
     },
     "execution_count": 5,
     "metadata": {},
     "output_type": "execute_result"
    }
   ],
   "source": [
    "data['intent'].value_counts()"
   ]
  }
 ],
 "metadata": {
  "kernelspec": {
   "display_name": "Python 3",
   "language": "python",
   "name": "python3"
  },
  "language_info": {
   "codemirror_mode": {
    "name": "ipython",
    "version": 3
   },
   "file_extension": ".py",
   "mimetype": "text/x-python",
   "name": "python",
   "nbconvert_exporter": "python",
   "pygments_lexer": "ipython3",
   "version": "3.7.9"
  }
 },
 "nbformat": 4,
 "nbformat_minor": 5
}
