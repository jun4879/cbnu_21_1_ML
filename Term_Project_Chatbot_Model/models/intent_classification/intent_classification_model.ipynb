{
 "cells": [
  {
   "cell_type": "code",
   "execution_count": 1,
   "id": "eastern-respondent",
   "metadata": {},
   "outputs": [],
   "source": [
    "import pandas as pd\n",
    "import tensorflow as tf\n",
    "from tensorflow.keras import preprocessing\n",
    "from tensorflow.keras.models import Model\n",
    "from tensorflow.keras.layers import Input, Embedding, Dense, Dropout, Conv1D, GlobalMaxPool1D, concatenate, MaxPool1D\n",
    "from tensorflow.keras import callbacks\n",
    "from tensorflow.keras.callbacks import ModelCheckpoint\n",
    "from sklearn.metrics import confusion_matrix\n",
    "from sklearn.model_selection import train_test_split\n",
    "from sklearn.metrics import confusion_matrix\n",
    "import numpy as np\n",
    "import seaborn as sns\n",
    "import sys\n",
    "sys.path.append('../../utils')\n",
    "from preprocess import Preprocess\n",
    "sys.path.append('../../config')\n",
    "import matplotlib.pyplot as plt\n",
    "from GlobalParams import MAX_SEQ_LEN"
   ]
  },
  {
   "cell_type": "code",
   "execution_count": 2,
   "id": "together-commissioner",
   "metadata": {},
   "outputs": [],
   "source": [
    "train_file = \"total_train_data.csv\"\n",
    "data = pd.read_csv(train_file, delimiter=',')\n",
    "# 데이터 구조 : 컬럼 2개(query, intent)\n",
    "# query : 발화 내용\n",
    "# intent : 발화 내용에 대한 label, 0~인사, 1~욕설, 2~주문, 3~예약, 4~기타\n",
    "queries = data['query'].tolist()\n",
    "intents = data['intent'].tolist()"
   ]
  },
  {
   "cell_type": "code",
   "execution_count": 3,
   "id": "detected-reunion",
   "metadata": {},
   "outputs": [],
   "source": [
    "# 전처리 객체\n",
    "p = Preprocess(word2index_dic='../../train_tools/dict/chatbot_dict.bin',\n",
    "               userdic='../../utils/user_dic.tsv')\n",
    "# 단어 시퀀스 생성\n",
    "sequences = []\n",
    "for sentence in queries:\n",
    "    pos = p.pos(sentence)\n",
    "    keywords = p.pos(sentence)\n",
    "    seq = p.get_wordidx_sequence(keywords)\n",
    "    sequences.append(seq)"
   ]
  },
  {
   "cell_type": "code",
   "execution_count": 4,
   "id": "accessory-alliance",
   "metadata": {},
   "outputs": [],
   "source": [
    "# 단어 시퀀스 벡터 생성\n",
    "padded_seqs = preprocessing.sequence.pad_sequences(sequences, maxlen=MAX_SEQ_LEN, padding='post')\n",
    "\n",
    "# train, validation, test set 생성\n",
    "dataset = tf.data.Dataset.from_tensor_slices((padded_seqs, intents))\n",
    "dataset = dataset.shuffle(len(queries))\n",
    "\n",
    "train_size = int(len(padded_seqs) * 0.7)\n",
    "val_size = int(len(padded_seqs) * 0.2)\n",
    "test_size = int(len(padded_seqs) * 0.1)\n",
    "\n",
    "train_dataset = dataset.take(train_size).batch(20)\n",
    "val_dataset = dataset.skip(train_size).take(val_size).batch(20)\n",
    "test_dataset = dataset.skip(train_size + val_size).take(test_size).batch(20)"
   ]
  },
  {
   "cell_type": "code",
   "execution_count": 5,
   "id": "musical-planet",
   "metadata": {},
   "outputs": [],
   "source": [
    "# 하이퍼 파라미터 설정\n",
    "dropout_prob = 0.5\n",
    "EMB_SIZE = 128\n",
    "EPOCH = 50\n",
    "VOCAB_SIZE = len(p.word_index) + 1"
   ]
  },
  {
   "cell_type": "code",
   "execution_count": 6,
   "id": "authorized-champion",
   "metadata": {},
   "outputs": [],
   "source": [
    "# CNN 모델 정의 / conv층 추가, maxpool 층 추가, dropout 층 주석 처리 (210603)\n",
    "# dropout 층 다시 살려서 테스트 - 더 떨어지는 느낌 (210604)\n",
    "input_layer = Input(shape=(MAX_SEQ_LEN,))\n",
    "embedding_layer = Embedding(VOCAB_SIZE, EMB_SIZE, input_length=MAX_SEQ_LEN)(input_layer)\n",
    "#dropout_emb = Dropout(rate=dropout_prob)(embedding_layer)\n",
    "# 3-gram / conv 층 추가\n",
    "#conv1 = Conv1D(filters=128, kernel_size=3, padding='valid', activation=tf.nn.relu)(dropout_emb)\n",
    "conv1 = Conv1D(filters=128, kernel_size=3, padding='same', activation=tf.nn.relu)(embedding_layer)\n",
    "pool1 = MaxPool1D(padding='same')(conv1)\n",
    "conv1_1 = Conv1D(filters=256, kernel_size=3, padding='same', activation=tf.nn.relu)(conv1)\n",
    "pool1_1 = MaxPool1D(padding='same')(conv1_1)\n",
    "conv1_2 = Conv1D(filters=128, kernel_size=3, padding='same', activation=tf.nn.relu)(pool1_1)\n",
    "pool1_2 = MaxPool1D(padding='same')(conv1_2)\n",
    "GMpool1 = GlobalMaxPool1D()(conv1_2)\n",
    "# 4-gram / conv 층 추가\n",
    "#conv2 = Conv1D(filters=128, kernel_size=4, padding='same', activation=tf.nn.relu)(dropout_emb)\n",
    "conv2 = Conv1D(filters=128, kernel_size=4, padding='same', activation=tf.nn.relu)(embedding_layer)\n",
    "pool2 = MaxPool1D(padding='same')(conv2)\n",
    "conv2_1 = Conv1D(filters=256, kernel_size=4, padding='same', activation=tf.nn.relu)(conv2)\n",
    "pool2_1 = MaxPool1D(padding='same')(conv2_1)\n",
    "conv2_2 = Conv1D(filters=128, kernel_size=4, padding='same', activation=tf.nn.relu)(conv2_1)\n",
    "pool2_2 = MaxPool1D(padding='same')(conv2_2)\n",
    "GMpool2 = GlobalMaxPool1D()(conv2_2)\n",
    "# 5-gram / conv 층 추가\n",
    "#conv3 = Conv1D(filters=128, kernel_size=5, padding='same', activation=tf.nn.relu)(dropout_emb)\n",
    "conv3 = Conv1D(filters=128, kernel_size=5, padding='same', activation=tf.nn.relu)(embedding_layer)\n",
    "pool3 = MaxPool1D(padding='same')(conv3)\n",
    "conv3_1 = Conv1D(filters=256, kernel_size=5, padding='same', activation=tf.nn.relu)(conv3)\n",
    "pool3_1 = MaxPool1D(padding='same')(conv3_1)\n",
    "conv3_2 = Conv1D(filters=128, kernel_size=5, padding='same', activation=tf.nn.relu)(conv3_1)\n",
    "pool3_2 = MaxPool1D(padding='same')(conv3_2)\n",
    "GMpool3= GlobalMaxPool1D()(conv3_2)\n",
    "\n",
    "concat = concatenate([GMpool1, GMpool2, GMpool3])\n",
    "\n",
    "# Dense Layer 확장 테스트 (210604) - Dense 늘리니까 성능 더 안 좋아진 듯\n",
    "hidden = Dense(128, activation=tf.nn.relu)(concat)\n",
    "#hidden_1 = Dense(64, activation=tf.nn.relu)(hidden)\n",
    "#hidden_2 = Dense(32, activation=tf.nn.relu)(hidden_1)\n",
    "#hidden_3 = Dense(16, activation=tf.nn.relu)(hidden_2)\n",
    "#hidden_4 = Dense(8, activation=tf.nn.relu)(hidden_3)\n",
    "#dropout_hidden = Dropout(rate=dropout_prob)(hidden)\n",
    "#logits = Dense(5, name='logits')(hidden_4)\n",
    "logits = Dense(5, name='logits')(hidden)\n",
    "predictions = Dense(5, activation=tf.nn.softmax)(logits)"
   ]
  },
  {
   "cell_type": "code",
   "execution_count": 7,
   "id": "sporting-selection",
   "metadata": {},
   "outputs": [
    {
     "data": {
      "text/plain": [
       "\"\\n# CNN 모델 정의\\ninput_layer = Input(shape=(MAX_SEQ_LEN,))\\nembedding_layer = Embedding(VOCAB_SIZE, EMB_SIZE, input_length=MAX_SEQ_LEN)(input_layer)\\n#dropout_emb = Dropout(rate=dropout_prob)(embedding_layer)\\n\\n# 3-gram / conv 층 추가\\n#conv1 = Conv1D(filters=128, kernel_size=3, padding='valid', activation=tf.nn.relu)(dropout_emb)\\nconv1 = Conv1D(filters=128, kernel_size=3, padding='same', activation=tf.nn.relu)(embedding_layer)\\npool1 = MaxPool1D(padding='same')(conv1)\\nconv1_1 = Conv1D(filters=256, kernel_size=3, padding='same', activation=tf.nn.relu)(pool1)\\npool2 = MaxPool1D(padding='same')(conv1_1)\\nconv1_2 = Conv1D(filters=128, kernel_size=3, padding='same', activation=tf.nn.relu)(pool2)\\npool3 = GlobalMaxPool1D()(conv1_2)\\n\\nhidden = Dense(128, activation=tf.nn.relu)(pool3)\\n#dropout_hidden = Dropout(rate=dropout_prob)(hidden)\\n#logits = Dense(5, name='logits')(dropout_hidden)\\nlogits = Dense(5, name='logits')(hidden)\\npredictions = Dense(5, activation=tf.nn.softmax)(logits)\\n\""
      ]
     },
     "execution_count": 7,
     "metadata": {},
     "output_type": "execute_result"
    }
   ],
   "source": [
    "'''\n",
    "# CNN 모델 정의\n",
    "input_layer = Input(shape=(MAX_SEQ_LEN,))\n",
    "embedding_layer = Embedding(VOCAB_SIZE, EMB_SIZE, input_length=MAX_SEQ_LEN)(input_layer)\n",
    "#dropout_emb = Dropout(rate=dropout_prob)(embedding_layer)\n",
    "\n",
    "# 3-gram / conv 층 추가\n",
    "#conv1 = Conv1D(filters=128, kernel_size=3, padding='valid', activation=tf.nn.relu)(dropout_emb)\n",
    "conv1 = Conv1D(filters=128, kernel_size=3, padding='same', activation=tf.nn.relu)(embedding_layer)\n",
    "pool1 = MaxPool1D(padding='same')(conv1)\n",
    "conv1_1 = Conv1D(filters=256, kernel_size=3, padding='same', activation=tf.nn.relu)(pool1)\n",
    "pool2 = MaxPool1D(padding='same')(conv1_1)\n",
    "conv1_2 = Conv1D(filters=128, kernel_size=3, padding='same', activation=tf.nn.relu)(pool2)\n",
    "pool3 = GlobalMaxPool1D()(conv1_2)\n",
    "\n",
    "hidden = Dense(128, activation=tf.nn.relu)(pool3)\n",
    "#dropout_hidden = Dropout(rate=dropout_prob)(hidden)\n",
    "#logits = Dense(5, name='logits')(dropout_hidden)\n",
    "logits = Dense(5, name='logits')(hidden)\n",
    "predictions = Dense(5, activation=tf.nn.softmax)(logits)\n",
    "'''"
   ]
  },
  {
   "cell_type": "code",
   "execution_count": 8,
   "id": "religious-battle",
   "metadata": {},
   "outputs": [
    {
     "name": "stdout",
     "output_type": "stream",
     "text": [
      "Model: \"functional_1\"\n",
      "__________________________________________________________________________________________________\n",
      "Layer (type)                    Output Shape         Param #     Connected to                     \n",
      "==================================================================================================\n",
      "input_1 (InputLayer)            [(None, 15)]         0                                            \n",
      "__________________________________________________________________________________________________\n",
      "embedding (Embedding)           (None, 15, 128)      2272128     input_1[0][0]                    \n",
      "__________________________________________________________________________________________________\n",
      "conv1d (Conv1D)                 (None, 15, 128)      49280       embedding[0][0]                  \n",
      "__________________________________________________________________________________________________\n",
      "conv1d_1 (Conv1D)               (None, 15, 256)      98560       conv1d[0][0]                     \n",
      "__________________________________________________________________________________________________\n",
      "conv1d_3 (Conv1D)               (None, 15, 128)      65664       embedding[0][0]                  \n",
      "__________________________________________________________________________________________________\n",
      "conv1d_6 (Conv1D)               (None, 15, 128)      82048       embedding[0][0]                  \n",
      "__________________________________________________________________________________________________\n",
      "max_pooling1d_1 (MaxPooling1D)  (None, 8, 256)       0           conv1d_1[0][0]                   \n",
      "__________________________________________________________________________________________________\n",
      "conv1d_4 (Conv1D)               (None, 15, 256)      131328      conv1d_3[0][0]                   \n",
      "__________________________________________________________________________________________________\n",
      "conv1d_7 (Conv1D)               (None, 15, 256)      164096      conv1d_6[0][0]                   \n",
      "__________________________________________________________________________________________________\n",
      "conv1d_2 (Conv1D)               (None, 8, 128)       98432       max_pooling1d_1[0][0]            \n",
      "__________________________________________________________________________________________________\n",
      "conv1d_5 (Conv1D)               (None, 15, 128)      131200      conv1d_4[0][0]                   \n",
      "__________________________________________________________________________________________________\n",
      "conv1d_8 (Conv1D)               (None, 15, 128)      163968      conv1d_7[0][0]                   \n",
      "__________________________________________________________________________________________________\n",
      "global_max_pooling1d (GlobalMax (None, 128)          0           conv1d_2[0][0]                   \n",
      "__________________________________________________________________________________________________\n",
      "global_max_pooling1d_1 (GlobalM (None, 128)          0           conv1d_5[0][0]                   \n",
      "__________________________________________________________________________________________________\n",
      "global_max_pooling1d_2 (GlobalM (None, 128)          0           conv1d_8[0][0]                   \n",
      "__________________________________________________________________________________________________\n",
      "concatenate (Concatenate)       (None, 384)          0           global_max_pooling1d[0][0]       \n",
      "                                                                 global_max_pooling1d_1[0][0]     \n",
      "                                                                 global_max_pooling1d_2[0][0]     \n",
      "__________________________________________________________________________________________________\n",
      "dense (Dense)                   (None, 128)          49280       concatenate[0][0]                \n",
      "__________________________________________________________________________________________________\n",
      "logits (Dense)                  (None, 5)            645         dense[0][0]                      \n",
      "__________________________________________________________________________________________________\n",
      "dense_1 (Dense)                 (None, 5)            30          logits[0][0]                     \n",
      "==================================================================================================\n",
      "Total params: 3,306,659\n",
      "Trainable params: 3,306,659\n",
      "Non-trainable params: 0\n",
      "__________________________________________________________________________________________________\n",
      "Epoch 1/50\n",
      "3698/3698 [==============================] - ETA: 0s - loss: 1.4080 - accuracy: 0.3586\n",
      "Epoch 00001: val_loss improved from inf to 1.29855, saving model to ./intent_classification_best_model_1.h5\n",
      "3698/3698 [==============================] - 55s 15ms/step - loss: 1.4080 - accuracy: 0.3586 - val_loss: 1.2986 - val_accuracy: 0.3619\n",
      "Epoch 2/50\n",
      "3696/3698 [============================>.] - ETA: 0s - loss: 1.1912 - accuracy: 0.3827\n",
      "Epoch 00002: val_loss improved from 1.29855 to 1.06611, saving model to ./intent_classification_best_model_1.h5\n",
      "3698/3698 [==============================] - 55s 15ms/step - loss: 1.1912 - accuracy: 0.3827 - val_loss: 1.0661 - val_accuracy: 0.4850\n",
      "Epoch 3/50\n",
      "3697/3698 [============================>.] - ETA: 0s - loss: 0.9716 - accuracy: 0.5520\n",
      "Epoch 00003: val_loss improved from 1.06611 to 0.90530, saving model to ./intent_classification_best_model_1.h5\n",
      "3698/3698 [==============================] - 54s 15ms/step - loss: 0.9715 - accuracy: 0.5520 - val_loss: 0.9053 - val_accuracy: 0.5755\n",
      "Epoch 4/50\n",
      "3697/3698 [============================>.] - ETA: 0s - loss: 0.8873 - accuracy: 0.5992\n",
      "Epoch 00004: val_loss improved from 0.90530 to 0.87251, saving model to ./intent_classification_best_model_1.h5\n",
      "3698/3698 [==============================] - 55s 15ms/step - loss: 0.8873 - accuracy: 0.5992 - val_loss: 0.8725 - val_accuracy: 0.6005\n",
      "Epoch 5/50\n",
      "3697/3698 [============================>.] - ETA: 0s - loss: 0.8630 - accuracy: 0.5983\n",
      "Epoch 00005: val_loss improved from 0.87251 to 0.84824, saving model to ./intent_classification_best_model_1.h5\n",
      "3698/3698 [==============================] - 54s 15ms/step - loss: 0.8630 - accuracy: 0.5982 - val_loss: 0.8482 - val_accuracy: 0.5942\n",
      "Epoch 6/50\n",
      "3696/3698 [============================>.] - ETA: 0s - loss: 0.8444 - accuracy: 0.6001\n",
      "Epoch 00006: val_loss improved from 0.84824 to 0.83111, saving model to ./intent_classification_best_model_1.h5\n",
      "3698/3698 [==============================] - 55s 15ms/step - loss: 0.8443 - accuracy: 0.6002 - val_loss: 0.8311 - val_accuracy: 0.6087\n",
      "Epoch 7/50\n",
      "3697/3698 [============================>.] - ETA: 0s - loss: 0.8274 - accuracy: 0.6100\n",
      "Epoch 00007: val_loss improved from 0.83111 to 0.82312, saving model to ./intent_classification_best_model_1.h5\n",
      "3698/3698 [==============================] - 54s 15ms/step - loss: 0.8274 - accuracy: 0.6100 - val_loss: 0.8231 - val_accuracy: 0.6002\n",
      "Epoch 8/50\n",
      "3696/3698 [============================>.] - ETA: 0s - loss: 0.8162 - accuracy: 0.6134\n",
      "Epoch 00008: val_loss improved from 0.82312 to 0.81352, saving model to ./intent_classification_best_model_1.h5\n",
      "3698/3698 [==============================] - 55s 15ms/step - loss: 0.8162 - accuracy: 0.6133 - val_loss: 0.8135 - val_accuracy: 0.6151\n",
      "Epoch 9/50\n",
      "3697/3698 [============================>.] - ETA: 0s - loss: 0.8051 - accuracy: 0.6104\n",
      "Epoch 00009: val_loss improved from 0.81352 to 0.79079, saving model to ./intent_classification_best_model_1.h5\n",
      "3698/3698 [==============================] - 54s 15ms/step - loss: 0.8051 - accuracy: 0.6104 - val_loss: 0.7908 - val_accuracy: 0.6139\n",
      "Epoch 10/50\n",
      "3697/3698 [============================>.] - ETA: 0s - loss: 0.7913 - accuracy: 0.6123\n",
      "Epoch 00010: val_loss improved from 0.79079 to 0.78315, saving model to ./intent_classification_best_model_1.h5\n",
      "3698/3698 [==============================] - 55s 15ms/step - loss: 0.7913 - accuracy: 0.6123 - val_loss: 0.7831 - val_accuracy: 0.6123\n",
      "Epoch 11/50\n",
      "3696/3698 [============================>.] - ETA: 0s - loss: 0.7818 - accuracy: 0.6129\n",
      "Epoch 00011: val_loss improved from 0.78315 to 0.77187, saving model to ./intent_classification_best_model_1.h5\n",
      "3698/3698 [==============================] - 54s 15ms/step - loss: 0.7817 - accuracy: 0.6129 - val_loss: 0.7719 - val_accuracy: 0.6198\n",
      "Epoch 12/50\n",
      "3698/3698 [==============================] - ETA: 0s - loss: 0.7775 - accuracy: 0.6115\n",
      "Epoch 00012: val_loss did not improve from 0.77187\n",
      "3698/3698 [==============================] - 54s 15ms/step - loss: 0.7775 - accuracy: 0.6115 - val_loss: 0.7725 - val_accuracy: 0.6118\n",
      "Epoch 13/50\n",
      "3697/3698 [============================>.] - ETA: 0s - loss: 0.7667 - accuracy: 0.6149\n",
      "Epoch 00013: val_loss improved from 0.77187 to 0.76390, saving model to ./intent_classification_best_model_1.h5\n",
      "3698/3698 [==============================] - 55s 15ms/step - loss: 0.7667 - accuracy: 0.6148 - val_loss: 0.7639 - val_accuracy: 0.6156\n",
      "Epoch 14/50\n",
      "3697/3698 [============================>.] - ETA: 0s - loss: 0.7629 - accuracy: 0.6130\n",
      "Epoch 00014: val_loss improved from 0.76390 to 0.75465, saving model to ./intent_classification_best_model_1.h5\n",
      "3698/3698 [==============================] - 54s 15ms/step - loss: 0.7628 - accuracy: 0.6130 - val_loss: 0.7546 - val_accuracy: 0.6183\n",
      "Epoch 15/50\n",
      "3697/3698 [============================>.] - ETA: 0s - loss: 0.7598 - accuracy: 0.6178\n",
      "Epoch 00015: val_loss did not improve from 0.75465\n",
      "3698/3698 [==============================] - 55s 15ms/step - loss: 0.7598 - accuracy: 0.6178 - val_loss: 0.7603 - val_accuracy: 0.6140\n",
      "Epoch 16/50\n",
      "3697/3698 [============================>.] - ETA: 0s - loss: 0.7548 - accuracy: 0.6177\n",
      "Epoch 00016: val_loss improved from 0.75465 to 0.75139, saving model to ./intent_classification_best_model_1.h5\n",
      "3698/3698 [==============================] - 53s 14ms/step - loss: 0.7548 - accuracy: 0.6177 - val_loss: 0.7514 - val_accuracy: 0.6311\n",
      "Epoch 17/50\n",
      "3697/3698 [============================>.] - ETA: 0s - loss: 0.7552 - accuracy: 0.6224\n",
      "Epoch 00017: val_loss did not improve from 0.75139\n",
      "3698/3698 [==============================] - 54s 15ms/step - loss: 0.7552 - accuracy: 0.6224 - val_loss: 0.7566 - val_accuracy: 0.6294\n",
      "Epoch 18/50\n",
      "3697/3698 [============================>.] - ETA: 0s - loss: 0.7513 - accuracy: 0.6251\n",
      "Epoch 00018: val_loss did not improve from 0.75139\n",
      "3698/3698 [==============================] - 53s 14ms/step - loss: 0.7513 - accuracy: 0.6251 - val_loss: 0.7599 - val_accuracy: 0.6213\n",
      "Epoch 19/50\n",
      "3697/3698 [============================>.] - ETA: 0s - loss: 0.7523 - accuracy: 0.6263\n",
      "Epoch 00019: val_loss did not improve from 0.75139\n",
      "3698/3698 [==============================] - 54s 15ms/step - loss: 0.7523 - accuracy: 0.6263 - val_loss: 0.7526 - val_accuracy: 0.6246\n",
      "Epoch 20/50\n",
      "3696/3698 [============================>.] - ETA: 0s - loss: 0.7495 - accuracy: 0.6268\n",
      "Epoch 00020: val_loss improved from 0.75139 to 0.74674, saving model to ./intent_classification_best_model_1.h5\n",
      "3698/3698 [==============================] - 53s 14ms/step - loss: 0.7496 - accuracy: 0.6268 - val_loss: 0.7467 - val_accuracy: 0.6286\n",
      "Epoch 21/50\n",
      "3697/3698 [============================>.] - ETA: 0s - loss: 0.7496 - accuracy: 0.6282\n",
      "Epoch 00021: val_loss improved from 0.74674 to 0.74540, saving model to ./intent_classification_best_model_1.h5\n",
      "3698/3698 [==============================] - 54s 14ms/step - loss: 0.7496 - accuracy: 0.6281 - val_loss: 0.7454 - val_accuracy: 0.6322\n",
      "Epoch 22/50\n",
      "3697/3698 [============================>.] - ETA: 0s - loss: 0.7483 - accuracy: 0.6306\n",
      "Epoch 00022: val_loss did not improve from 0.74540\n",
      "3698/3698 [==============================] - 54s 15ms/step - loss: 0.7483 - accuracy: 0.6306 - val_loss: 0.7470 - val_accuracy: 0.6301\n",
      "Epoch 23/50\n",
      "3697/3698 [============================>.] - ETA: 0s - loss: 0.7493 - accuracy: 0.6300\n",
      "Epoch 00023: val_loss did not improve from 0.74540\n",
      "3698/3698 [==============================] - 53s 14ms/step - loss: 0.7492 - accuracy: 0.6300 - val_loss: 0.7477 - val_accuracy: 0.6297\n",
      "Epoch 24/50\n",
      "3697/3698 [============================>.] - ETA: 0s - loss: 0.7490 - accuracy: 0.6293\n",
      "Epoch 00024: val_loss did not improve from 0.74540\n",
      "3698/3698 [==============================] - 54s 15ms/step - loss: 0.7490 - accuracy: 0.6293 - val_loss: 0.7455 - val_accuracy: 0.6293\n",
      "Epoch 25/50\n",
      "3697/3698 [============================>.] - ETA: 0s - loss: 0.7481 - accuracy: 0.6296\n",
      "Epoch 00025: val_loss did not improve from 0.74540\n",
      "3698/3698 [==============================] - 53s 14ms/step - loss: 0.7481 - accuracy: 0.6296 - val_loss: 0.7466 - val_accuracy: 0.6318\n",
      "Epoch 26/50\n",
      "3697/3698 [============================>.] - ETA: 0s - loss: 0.7465 - accuracy: 0.6316\n",
      "Epoch 00026: val_loss did not improve from 0.74540\n",
      "3698/3698 [==============================] - 54s 15ms/step - loss: 0.7465 - accuracy: 0.6316 - val_loss: 0.7467 - val_accuracy: 0.6264\n",
      "Epoch 27/50\n",
      "3697/3698 [============================>.] - ETA: 0s - loss: 0.7475 - accuracy: 0.6305\n",
      "Epoch 00027: val_loss did not improve from 0.74540\n",
      "3698/3698 [==============================] - 53s 14ms/step - loss: 0.7476 - accuracy: 0.6304 - val_loss: 0.7468 - val_accuracy: 0.6320\n",
      "Epoch 28/50\n",
      "3697/3698 [============================>.] - ETA: 0s - loss: 0.7458 - accuracy: 0.6307\n",
      "Epoch 00028: val_loss did not improve from 0.74540\n",
      "3698/3698 [==============================] - 54s 15ms/step - loss: 0.7458 - accuracy: 0.6307 - val_loss: 0.7475 - val_accuracy: 0.6329\n",
      "Epoch 29/50\n",
      "3697/3698 [============================>.] - ETA: 0s - loss: 0.7461 - accuracy: 0.6307\n",
      "Epoch 00029: val_loss improved from 0.74540 to 0.74309, saving model to ./intent_classification_best_model_1.h5\n",
      "3698/3698 [==============================] - 53s 14ms/step - loss: 0.7462 - accuracy: 0.6306 - val_loss: 0.7431 - val_accuracy: 0.6318\n",
      "Epoch 30/50\n",
      "3696/3698 [============================>.] - ETA: 0s - loss: 0.7459 - accuracy: 0.6318\n",
      "Epoch 00030: val_loss did not improve from 0.74309\n",
      "3698/3698 [==============================] - 53s 14ms/step - loss: 0.7459 - accuracy: 0.6318 - val_loss: 0.7443 - val_accuracy: 0.6347\n",
      "Epoch 31/50\n",
      "3697/3698 [============================>.] - ETA: 0s - loss: 0.7435 - accuracy: 0.6313\n",
      "Epoch 00031: val_loss did not improve from 0.74309\n",
      "3698/3698 [==============================] - 54s 14ms/step - loss: 0.7435 - accuracy: 0.6313 - val_loss: 0.7458 - val_accuracy: 0.6310\n",
      "Epoch 32/50\n",
      "3697/3698 [============================>.] - ETA: 0s - loss: 0.7455 - accuracy: 0.6320\n",
      "Epoch 00032: val_loss improved from 0.74309 to 0.74040, saving model to ./intent_classification_best_model_1.h5\n",
      "3698/3698 [==============================] - 53s 14ms/step - loss: 0.7454 - accuracy: 0.6320 - val_loss: 0.7404 - val_accuracy: 0.6350\n",
      "Epoch 33/50\n",
      "3697/3698 [============================>.] - ETA: 0s - loss: 0.7443 - accuracy: 0.6317\n",
      "Epoch 00033: val_loss did not improve from 0.74040\n",
      "3698/3698 [==============================] - 54s 15ms/step - loss: 0.7443 - accuracy: 0.6317 - val_loss: 0.7438 - val_accuracy: 0.6290\n",
      "Epoch 34/50\n",
      "3697/3698 [============================>.] - ETA: 0s - loss: 0.7440 - accuracy: 0.6302\n",
      "Epoch 00034: val_loss did not improve from 0.74040\n",
      "3698/3698 [==============================] - 52s 14ms/step - loss: 0.7439 - accuracy: 0.6302 - val_loss: 0.7504 - val_accuracy: 0.6312\n",
      "Epoch 35/50\n",
      "3697/3698 [============================>.] - ETA: 0s - loss: 0.7438 - accuracy: 0.6312\n",
      "Epoch 00035: val_loss did not improve from 0.74040\n",
      "3698/3698 [==============================] - 54s 15ms/step - loss: 0.7438 - accuracy: 0.6312 - val_loss: 0.7474 - val_accuracy: 0.6315\n",
      "Epoch 36/50\n",
      "3697/3698 [============================>.] - ETA: 0s - loss: 0.7453 - accuracy: 0.6307\n",
      "Epoch 00036: val_loss did not improve from 0.74040\n",
      "3698/3698 [==============================] - 53s 14ms/step - loss: 0.7453 - accuracy: 0.6307 - val_loss: 0.7462 - val_accuracy: 0.6270\n",
      "Epoch 37/50\n",
      "3697/3698 [============================>.] - ETA: 0s - loss: 0.7429 - accuracy: 0.6319\n",
      "Epoch 00037: val_loss did not improve from 0.74040\n",
      "3698/3698 [==============================] - 54s 15ms/step - loss: 0.7430 - accuracy: 0.6318 - val_loss: 0.7490 - val_accuracy: 0.6280\n",
      "Epoch 38/50\n",
      "3697/3698 [============================>.] - ETA: 0s - loss: 0.7438 - accuracy: 0.6307\n",
      "Epoch 00038: val_loss did not improve from 0.74040\n",
      "3698/3698 [==============================] - 53s 14ms/step - loss: 0.7439 - accuracy: 0.6307 - val_loss: 0.7407 - val_accuracy: 0.6337\n",
      "Epoch 39/50\n",
      "3697/3698 [============================>.] - ETA: 0s - loss: 0.7450 - accuracy: 0.6306\n",
      "Epoch 00039: val_loss did not improve from 0.74040\n",
      "3698/3698 [==============================] - 53s 14ms/step - loss: 0.7450 - accuracy: 0.6306 - val_loss: 0.7478 - val_accuracy: 0.6296\n",
      "Epoch 40/50\n",
      "3697/3698 [============================>.] - ETA: 0s - loss: 0.7446 - accuracy: 0.6313\n",
      "Epoch 00040: val_loss did not improve from 0.74040\n",
      "3698/3698 [==============================] - 53s 14ms/step - loss: 0.7447 - accuracy: 0.6313 - val_loss: 0.7447 - val_accuracy: 0.6306\n",
      "Epoch 41/50\n",
      "3697/3698 [============================>.] - ETA: 0s - loss: 0.7442 - accuracy: 0.6314\n",
      "Epoch 00041: val_loss did not improve from 0.74040\n",
      "3698/3698 [==============================] - 53s 14ms/step - loss: 0.7442 - accuracy: 0.6315 - val_loss: 0.7406 - val_accuracy: 0.6357\n",
      "Epoch 42/50\n",
      "3697/3698 [============================>.] - ETA: 0s - loss: 0.7433 - accuracy: 0.6311\n",
      "Epoch 00042: val_loss did not improve from 0.74040\n",
      "3698/3698 [==============================] - 54s 15ms/step - loss: 0.7433 - accuracy: 0.6310 - val_loss: 0.7452 - val_accuracy: 0.6280\n",
      "Epoch 43/50\n",
      "3697/3698 [============================>.] - ETA: 0s - loss: 0.7455 - accuracy: 0.6292\n",
      "Epoch 00043: val_loss improved from 0.74040 to 0.73973, saving model to ./intent_classification_best_model_1.h5\n",
      "3698/3698 [==============================] - 53s 14ms/step - loss: 0.7456 - accuracy: 0.6292 - val_loss: 0.7397 - val_accuracy: 0.6345\n",
      "Epoch 44/50\n",
      "3696/3698 [============================>.] - ETA: 0s - loss: 0.7411 - accuracy: 0.6328\n",
      "Epoch 00044: val_loss did not improve from 0.73973\n",
      "3698/3698 [==============================] - 54s 15ms/step - loss: 0.7411 - accuracy: 0.6328 - val_loss: 0.7434 - val_accuracy: 0.6291\n",
      "Epoch 45/50\n",
      "3697/3698 [============================>.] - ETA: 0s - loss: 0.7436 - accuracy: 0.6313\n",
      "Epoch 00045: val_loss did not improve from 0.73973\n",
      "3698/3698 [==============================] - 53s 14ms/step - loss: 0.7436 - accuracy: 0.6313 - val_loss: 0.7444 - val_accuracy: 0.6295\n",
      "Epoch 46/50\n",
      "3697/3698 [============================>.] - ETA: 0s - loss: 0.7438 - accuracy: 0.6308\n",
      "Epoch 00046: val_loss did not improve from 0.73973\n",
      "3698/3698 [==============================] - 54s 14ms/step - loss: 0.7438 - accuracy: 0.6308 - val_loss: 0.7486 - val_accuracy: 0.6295\n",
      "Epoch 47/50\n",
      "3697/3698 [============================>.] - ETA: 0s - loss: 0.7433 - accuracy: 0.6305\n",
      "Epoch 00047: val_loss did not improve from 0.73973\n",
      "3698/3698 [==============================] - 53s 14ms/step - loss: 0.7432 - accuracy: 0.6305 - val_loss: 0.7472 - val_accuracy: 0.6301\n",
      "Epoch 48/50\n",
      "3697/3698 [============================>.] - ETA: 0s - loss: 0.7440 - accuracy: 0.6305\n",
      "Epoch 00048: val_loss did not improve from 0.73973\n",
      "3698/3698 [==============================] - 53s 14ms/step - loss: 0.7440 - accuracy: 0.6304 - val_loss: 0.7429 - val_accuracy: 0.6297\n",
      "Epoch 49/50\n",
      "3697/3698 [============================>.] - ETA: 0s - loss: 0.7434 - accuracy: 0.6308\n",
      "Epoch 00049: val_loss did not improve from 0.73973\n",
      "3698/3698 [==============================] - 53s 14ms/step - loss: 0.7435 - accuracy: 0.6308 - val_loss: 0.7420 - val_accuracy: 0.6340\n",
      "Epoch 50/50\n",
      "3697/3698 [============================>.] - ETA: 0s - loss: 0.7418 - accuracy: 0.6318\n",
      "Epoch 00050: val_loss did not improve from 0.73973\n",
      "3698/3698 [==============================] - 52s 14ms/step - loss: 0.7418 - accuracy: 0.6319 - val_loss: 0.7480 - val_accuracy: 0.6289\n",
      "529/529 [==============================] - 1s 2ms/step - loss: 0.7406 - accuracy: 0.6326\n",
      "ACC : 63.256031\n",
      "LOSS : 0.740631\n"
     ]
    }
   ],
   "source": [
    "# 모델 생성 / 모델 구조 변화 후 model_1 저장 ~ 목표 : val_acc 정확도 70퍼까지 올리기\n",
    "model = Model(inputs=input_layer, outputs=predictions)\n",
    "model.summary()\n",
    "checkpoint = ModelCheckpoint('./intent_classification_best_model_1.h5', verbose = 1, monitor = 'val_loss', save_best_only = True)\n",
    "model.compile(optimizer=tf.keras.optimizers.Adam(lr=0.000001),\n",
    "               loss='sparse_categorical_crossentropy', metrics=['accuracy'])\n",
    "history = model.fit(train_dataset, validation_data=val_dataset,\n",
    "                    epochs=EPOCH, verbose=1,callbacks=checkpoint)\n",
    "\n",
    "loss, acc = model.evaluate(test_dataset, verbose=1)\n",
    "print(\"ACC : %f\"%(acc*100))\n",
    "print(\"LOSS : %f\"%loss)"
   ]
  },
  {
   "cell_type": "code",
   "execution_count": 9,
   "id": "hired-yugoslavia",
   "metadata": {},
   "outputs": [
    {
     "data": {
      "text/plain": [
       "Text(0.5, 1.0, 'loss')"
      ]
     },
     "execution_count": 9,
     "metadata": {},
     "output_type": "execute_result"
    },
    {
     "data": {
      "image/png": "[encoded data removed]",
      "text/plain": [
       "<Figure size 936x288 with 2 Axes>"
      ]
     },
     "metadata": {
      "needs_background": "light"
     },
     "output_type": "display_data"
    }
   ],
   "source": [
    "# Accuracy/validation plots\n",
    "h = history.history\n",
    "fig = plt.figure(figsize = (13, 4))\n",
    "\n",
    "plt.subplot(121)\n",
    "plt.plot(h['accuracy'], label = 'acc')\n",
    "plt.plot(h['val_accuracy'], label = 'val_acc')\n",
    "plt.legend()\n",
    "plt.grid()\n",
    "plt.title(f'accuracy')\n",
    "\n",
    "plt.subplot(122)\n",
    "plt.plot(h['loss'], label = 'loss')\n",
    "plt.plot(h['val_loss'], label = 'val_loss')\n",
    "plt.legend()\n",
    "plt.grid()\n",
    "plt.title(f'loss')"
   ]
  },
  {
   "cell_type": "code",
   "execution_count": 10,
   "id": "purple-report",
   "metadata": {},
   "outputs": [
    {
     "data": {
      "text/plain": [
       "array([2, 3, 3, ..., 3, 3, 4])"
      ]
     },
     "execution_count": 10,
     "metadata": {},
     "output_type": "execute_result"
    }
   ],
   "source": [
    "y_pred = model.predict(test_dataset)\n",
    "y_pred_list = np.argmax(y_pred, axis=1)\n",
    "y_pred_list"
   ]
  },
  {
   "cell_type": "code",
   "execution_count": 11,
   "id": "informational-importance",
   "metadata": {},
   "outputs": [
    {
     "data": {
      "text/plain": [
       "10565"
      ]
     },
     "execution_count": 11,
     "metadata": {},
     "output_type": "execute_result"
    }
   ],
   "source": [
    "len(y_pred_list)"
   ]
  },
  {
   "cell_type": "code",
   "execution_count": 12,
   "id": "stock-atlanta",
   "metadata": {},
   "outputs": [
    {
     "name": "stdout",
     "output_type": "stream",
     "text": [
      "10565\n"
     ]
    }
   ],
   "source": [
    "y_true_list = []\n",
    "for _ ,datas in test_dataset.as_numpy_iterator():\n",
    "    for data in datas:\n",
    "        y_true_list.append(data)\n",
    "print(len(y_true_list))"
   ]
  },
  {
   "cell_type": "code",
   "execution_count": 13,
   "id": "liked-disney",
   "metadata": {},
   "outputs": [
    {
     "data": {
      "text/plain": [
       "<AxesSubplot:>"
      ]
     },
     "execution_count": 13,
     "metadata": {},
     "output_type": "execute_result"
    },
    {
     "data": {
      "image/png": "[encoded data removed]",
      "text/plain": [
       "<Figure size 432x432 with 2 Axes>"
      ]
     },
     "metadata": {
      "needs_background": "light"
     },
     "output_type": "display_data"
    }
   ],
   "source": [
    "# confusion matrix\n",
    "category = ['hello_words', 'bad_words', 'order_words', 'reservation_words', 'else']\n",
    "confusion = confusion_matrix(y_true_list, y_pred_list)\n",
    "fig = plt.figure(figsize = (6, 6))\n",
    "sns.heatmap(confusion, annot = True, fmt = 'd', xticklabels = category, yticklabels = category, square = True)"
   ]
  },
  {
   "cell_type": "code",
   "execution_count": 14,
   "id": "following-donor",
   "metadata": {},
   "outputs": [],
   "source": [
    "# 교재 제공 모델 정확도 테스트"
   ]
  }
 ],
 "metadata": {
  "kernelspec": {
   "display_name": "Python 3",
   "language": "python",
   "name": "python3"
  },
  "language_info": {
   "codemirror_mode": {
    "name": "ipython",
    "version": 3
   },
   "file_extension": ".py",
   "mimetype": "text/x-python",
   "name": "python",
   "nbconvert_exporter": "python",
   "pygments_lexer": "ipython3",
   "version": "3.7.9"
  }
 },
 "nbformat": 4,
 "nbformat_minor": 5
}
