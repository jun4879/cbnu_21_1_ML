{
 "cells": [
  {
   "cell_type": "code",
   "execution_count": 16,
   "id": "swiss-penny",
   "metadata": {},
   "outputs": [],
   "source": [
    "import pandas as pd\n",
    "import tensorflow as tf\n",
    "from tensorflow.keras import preprocessing\n",
    "from tensorflow.keras.models import Model\n",
    "from tensorflow.keras.layers import Input, Embedding, Dense, Dropout, Conv1D, GlobalMaxPool1D, concatenate\n",
    "from tensorflow.keras import callbacks\n",
    "from tensorflow.keras.callbacks import ModelCheckpoint\n",
    "from sklearn.metrics import confusion_matrix\n",
    "from sklearn.model_selection import train_test_split\n",
    "from sklearn.metrics import confusion_matrix\n",
    "import numpy as np\n",
    "import seaborn as sns\n",
    "import sys\n",
    "sys.path.append('../../utils')\n",
    "from preprocess import Preprocess\n",
    "sys.path.append('../../config')\n",
    "import matplotlib.pyplot as plt\n",
    "from GlobalParams import MAX_SEQ_LEN"
   ]
  },
  {
   "cell_type": "code",
   "execution_count": 2,
   "id": "pointed-bidder",
   "metadata": {},
   "outputs": [],
   "source": [
    "train_file = \"total_train_data.csv\"\n",
    "data = pd.read_csv(train_file, delimiter=',')\n",
    "# 데이터 구조 : 컬럼 2개(query, intent)\n",
    "# query : 발화 내용\n",
    "# intent : 발화 내용에 대한 label, 0~인사, 1~욕설, 2~주문, 3~예약, 4~기타\n",
    "queries = data['query'].tolist()\n",
    "intents = data['intent'].tolist()"
   ]
  },
  {
   "cell_type": "code",
   "execution_count": 3,
   "id": "color-channel",
   "metadata": {},
   "outputs": [],
   "source": [
    "# 전처리 객체\n",
    "p = Preprocess(word2index_dic='../../train_tools/dict/chatbot_dict.bin',\n",
    "               userdic='../../utils/user_dic.tsv')\n",
    "# 단어 시퀀스 생성\n",
    "sequences = []\n",
    "for sentence in queries:\n",
    "    pos = p.pos(sentence)\n",
    "    keywords = p.pos(sentence)\n",
    "    seq = p.get_wordidx_sequence(keywords)\n",
    "    sequences.append(seq)"
   ]
  },
  {
   "cell_type": "code",
   "execution_count": 4,
   "id": "dedicated-chinese",
   "metadata": {},
   "outputs": [],
   "source": [
    "# 단어 시퀀스 벡터 생성\n",
    "padded_seqs = preprocessing.sequence.pad_sequences(sequences, maxlen=MAX_SEQ_LEN, padding='post')\n",
    "\n",
    "# train, validation, test set 생성\n",
    "dataset = tf.data.Dataset.from_tensor_slices((padded_seqs, intents))\n",
    "dataset = dataset.shuffle(len(queries))\n",
    "\n",
    "train_size = int(len(padded_seqs) * 0.7)\n",
    "val_size = int(len(padded_seqs) * 0.2)\n",
    "test_size = int(len(padded_seqs) * 0.1)\n",
    "\n",
    "train_dataset = dataset.take(train_size).batch(20)\n",
    "val_dataset = dataset.skip(train_size).take(val_size).batch(20)\n",
    "test_dataset = dataset.skip(train_size + val_size).take(test_size).batch(20)"
   ]
  },
  {
   "cell_type": "code",
   "execution_count": 5,
   "id": "speaking-somewhere",
   "metadata": {},
   "outputs": [],
   "source": [
    "# 하이퍼 파라미터 설정\n",
    "dropout_prob = 0.3 # 0.5에서 수정\n",
    "EMB_SIZE = 128\n",
    "EPOCH = 30\n",
    "VOCAB_SIZE = len(p.word_index) + 1"
   ]
  },
  {
   "cell_type": "code",
   "execution_count": 6,
   "id": "imposed-notice",
   "metadata": {},
   "outputs": [],
   "source": [
    "# CNN 모델 정의\n",
    "input_layer = Input(shape=(MAX_SEQ_LEN,))\n",
    "embedding_layer = Embedding(VOCAB_SIZE, EMB_SIZE, input_length=MAX_SEQ_LEN)(input_layer)\n",
    "dropout_emb = Dropout(rate=dropout_prob)(embedding_layer)\n",
    "# 3-gram / conv 층 추가\n",
    "conv1 = Conv1D(filters=128, kernel_size=3, padding='valid', activation=tf.nn.relu)(dropout_emb)\n",
    "conv1_1 = Conv1D(filters=256, kernel_size=3, padding='valid', activation=tf.nn.relu)(conv1)\n",
    "conv1_2 = Conv1D(filters=128, kernel_size=3, padding='valid', activation=tf.nn.relu)(conv1_1)\n",
    "pool1 = GlobalMaxPool1D()(conv1_2)\n",
    "# 4-gram / conv 층 추가\n",
    "conv2 = Conv1D(filters=128, kernel_size=4, padding='valid', activation=tf.nn.relu)(dropout_emb)\n",
    "conv2_1 = Conv1D(filters=256, kernel_size=4, padding='valid', activation=tf.nn.relu)(conv2)\n",
    "conv2_2 = Conv1D(filters=128, kernel_size=4, padding='valid', activation=tf.nn.relu)(conv2_1)\n",
    "pool2 = GlobalMaxPool1D()(conv2_2)\n",
    "# 5-gram / conv 층 추가\n",
    "conv3 = Conv1D(filters=128, kernel_size=5, padding='valid', activation=tf.nn.relu)(dropout_emb)\n",
    "conv3_1 = Conv1D(filters=256, kernel_size=5, padding='valid', activation=tf.nn.relu)(conv3)\n",
    "conv3_2 = Conv1D(filters=128, kernel_size=5, padding='valid', activation=tf.nn.relu)(conv3_1)\n",
    "pool3= GlobalMaxPool1D()(conv3_2)\n",
    "\n",
    "concat = concatenate([pool1, pool2, pool3])\n",
    "\n",
    "hidden = Dense(128, activation=tf.nn.relu)(concat)\n",
    "dropout_hidden = Dropout(rate=dropout_prob)(hidden)\n",
    "logits = Dense(5, name='logits')(dropout_hidden)\n",
    "predictions = Dense(5, activation=tf.nn.softmax)(logits)"
   ]
  },
  {
   "cell_type": "code",
   "execution_count": 7,
   "id": "destroyed-haiti",
   "metadata": {},
   "outputs": [
    {
     "name": "stdout",
     "output_type": "stream",
     "text": [
      "Epoch 1/30\n",
      "3697/3698 [============================>.] - ETA: 0s - loss: 0.8008 - accuracy: 0.5936\n",
      "Epoch 00001: val_accuracy improved from -inf to 0.63244, saving model to ./intent_classification_best_model.h5\n",
      "3698/3698 [==============================] - 50s 14ms/step - loss: 0.8007 - accuracy: 0.5936 - val_loss: 0.7440 - val_accuracy: 0.6324\n",
      "Epoch 2/30\n",
      "3696/3698 [============================>.] - ETA: 0s - loss: 0.7570 - accuracy: 0.6201\n",
      "Epoch 00002: val_accuracy did not improve from 0.63244\n",
      "3698/3698 [==============================] - 49s 13ms/step - loss: 0.7570 - accuracy: 0.6201 - val_loss: 0.7364 - val_accuracy: 0.6313\n",
      "Epoch 3/30\n",
      "3695/3698 [============================>.] - ETA: 0s - loss: 0.7496 - accuracy: 0.6244\n",
      "Epoch 00003: val_accuracy did not improve from 0.63244\n",
      "3698/3698 [==============================] - 49s 13ms/step - loss: 0.7496 - accuracy: 0.6243 - val_loss: 0.7396 - val_accuracy: 0.6264\n",
      "Epoch 4/30\n",
      "3696/3698 [============================>.] - ETA: 0s - loss: 0.7484 - accuracy: 0.6265\n",
      "Epoch 00004: val_accuracy improved from 0.63244 to 0.63291, saving model to ./intent_classification_best_model.h5\n",
      "3698/3698 [==============================] - 49s 13ms/step - loss: 0.7484 - accuracy: 0.6265 - val_loss: 0.7323 - val_accuracy: 0.6329\n",
      "Epoch 5/30\n",
      "3697/3698 [============================>.] - ETA: 0s - loss: 0.7431 - accuracy: 0.6267\n",
      "Epoch 00005: val_accuracy did not improve from 0.63291\n",
      "3698/3698 [==============================] - 49s 13ms/step - loss: 0.7431 - accuracy: 0.6267 - val_loss: 0.7359 - val_accuracy: 0.6291\n",
      "Epoch 6/30\n",
      "3696/3698 [============================>.] - ETA: 0s - loss: 0.7430 - accuracy: 0.6286\n",
      "Epoch 00006: val_accuracy did not improve from 0.63291\n",
      "3698/3698 [==============================] - 49s 13ms/step - loss: 0.7431 - accuracy: 0.6286 - val_loss: 0.7372 - val_accuracy: 0.6276\n",
      "Epoch 7/30\n",
      "3696/3698 [============================>.] - ETA: 0s - loss: 0.7427 - accuracy: 0.6278\n",
      "Epoch 00007: val_accuracy did not improve from 0.63291\n",
      "3698/3698 [==============================] - 49s 13ms/step - loss: 0.7427 - accuracy: 0.6277 - val_loss: 0.7417 - val_accuracy: 0.6277\n",
      "Epoch 8/30\n",
      "3696/3698 [============================>.] - ETA: 0s - loss: 0.7412 - accuracy: 0.6298\n",
      "Epoch 00008: val_accuracy did not improve from 0.63291\n",
      "3698/3698 [==============================] - 49s 13ms/step - loss: 0.7412 - accuracy: 0.6298 - val_loss: 0.7400 - val_accuracy: 0.6282\n",
      "Epoch 9/30\n",
      "3695/3698 [============================>.] - ETA: 0s - loss: 0.7431 - accuracy: 0.6280\n",
      "Epoch 00009: val_accuracy did not improve from 0.63291\n",
      "3698/3698 [==============================] - 49s 13ms/step - loss: 0.7431 - accuracy: 0.6280 - val_loss: 0.7385 - val_accuracy: 0.6325\n",
      "Epoch 10/30\n",
      "3698/3698 [==============================] - ETA: 0s - loss: 0.7399 - accuracy: 0.6309\n",
      "Epoch 00010: val_accuracy did not improve from 0.63291\n",
      "3698/3698 [==============================] - 49s 13ms/step - loss: 0.7399 - accuracy: 0.6309 - val_loss: 0.7345 - val_accuracy: 0.6329\n",
      "Epoch 11/30\n",
      "3698/3698 [==============================] - ETA: 0s - loss: 0.7398 - accuracy: 0.6297\n",
      "Epoch 00011: val_accuracy improved from 0.63291 to 0.63523, saving model to ./intent_classification_best_model.h5\n",
      "3698/3698 [==============================] - 49s 13ms/step - loss: 0.7398 - accuracy: 0.6297 - val_loss: 0.7406 - val_accuracy: 0.6352\n",
      "Epoch 12/30\n",
      "3697/3698 [============================>.] - ETA: 0s - loss: 0.7383 - accuracy: 0.6324\n",
      "Epoch 00012: val_accuracy did not improve from 0.63523\n",
      "3698/3698 [==============================] - 49s 13ms/step - loss: 0.7383 - accuracy: 0.6324 - val_loss: 0.7329 - val_accuracy: 0.6331\n",
      "Epoch 13/30\n",
      "3696/3698 [============================>.] - ETA: 0s - loss: 0.7405 - accuracy: 0.6294\n",
      "Epoch 00013: val_accuracy did not improve from 0.63523\n",
      "3698/3698 [==============================] - 49s 13ms/step - loss: 0.7405 - accuracy: 0.6294 - val_loss: 0.7367 - val_accuracy: 0.6269\n",
      "Epoch 14/30\n",
      "3696/3698 [============================>.] - ETA: 0s - loss: 0.7395 - accuracy: 0.6303\n",
      "Epoch 00014: val_accuracy did not improve from 0.63523\n",
      "3698/3698 [==============================] - 49s 13ms/step - loss: 0.7394 - accuracy: 0.6303 - val_loss: 0.7351 - val_accuracy: 0.6283\n",
      "Epoch 15/30\n",
      "3697/3698 [============================>.] - ETA: 0s - loss: 0.7377 - accuracy: 0.6313\n",
      "Epoch 00015: val_accuracy did not improve from 0.63523\n",
      "3698/3698 [==============================] - 49s 13ms/step - loss: 0.7377 - accuracy: 0.6313 - val_loss: 0.7316 - val_accuracy: 0.6290\n",
      "Epoch 16/30\n",
      "3695/3698 [============================>.] - ETA: 0s - loss: 0.7389 - accuracy: 0.6302\n",
      "Epoch 00016: val_accuracy did not improve from 0.63523\n",
      "3698/3698 [==============================] - 49s 13ms/step - loss: 0.7388 - accuracy: 0.6302 - val_loss: 0.7286 - val_accuracy: 0.6338\n",
      "Epoch 17/30\n",
      "3696/3698 [============================>.] - ETA: 0s - loss: 0.7388 - accuracy: 0.6302\n",
      "Epoch 00017: val_accuracy did not improve from 0.63523\n",
      "3698/3698 [==============================] - 49s 13ms/step - loss: 0.7388 - accuracy: 0.6302 - val_loss: 0.7359 - val_accuracy: 0.6304\n",
      "Epoch 18/30\n",
      "3697/3698 [============================>.] - ETA: 0s - loss: 0.7408 - accuracy: 0.6302\n",
      "Epoch 00018: val_accuracy did not improve from 0.63523\n",
      "3698/3698 [==============================] - 49s 13ms/step - loss: 0.7408 - accuracy: 0.6302 - val_loss: 0.7335 - val_accuracy: 0.6330\n",
      "Epoch 19/30\n",
      "3695/3698 [============================>.] - ETA: 0s - loss: 0.7366 - accuracy: 0.6319\n",
      "Epoch 00019: val_accuracy did not improve from 0.63523\n",
      "3698/3698 [==============================] - 49s 13ms/step - loss: 0.7366 - accuracy: 0.6319 - val_loss: 0.7303 - val_accuracy: 0.6344\n",
      "Epoch 20/30\n",
      "3695/3698 [============================>.] - ETA: 0s - loss: 0.7405 - accuracy: 0.6300\n",
      "Epoch 00020: val_accuracy did not improve from 0.63523\n",
      "3698/3698 [==============================] - 49s 13ms/step - loss: 0.7404 - accuracy: 0.6301 - val_loss: 0.7324 - val_accuracy: 0.6348\n",
      "Epoch 21/30\n",
      "3698/3698 [==============================] - ETA: 0s - loss: 0.7388 - accuracy: 0.6329\n",
      "Epoch 00021: val_accuracy improved from 0.63523 to 0.63684, saving model to ./intent_classification_best_model.h5\n",
      "3698/3698 [==============================] - 49s 13ms/step - loss: 0.7388 - accuracy: 0.6329 - val_loss: 0.7275 - val_accuracy: 0.6368\n",
      "Epoch 22/30\n",
      "3696/3698 [============================>.] - ETA: 0s - loss: 0.7390 - accuracy: 0.6297\n",
      "Epoch 00022: val_accuracy did not improve from 0.63684\n",
      "3698/3698 [==============================] - 49s 13ms/step - loss: 0.7390 - accuracy: 0.6296 - val_loss: 0.7437 - val_accuracy: 0.6263\n",
      "Epoch 23/30\n",
      "3694/3698 [============================>.] - ETA: 0s - loss: 0.7382 - accuracy: 0.6302\n",
      "Epoch 00023: val_accuracy did not improve from 0.63684\n",
      "3698/3698 [==============================] - 48s 13ms/step - loss: 0.7382 - accuracy: 0.6301 - val_loss: 0.7358 - val_accuracy: 0.6253\n",
      "Epoch 24/30\n",
      "3697/3698 [============================>.] - ETA: 0s - loss: 0.7370 - accuracy: 0.6305\n",
      "Epoch 00024: val_accuracy did not improve from 0.63684\n",
      "3698/3698 [==============================] - 49s 13ms/step - loss: 0.7370 - accuracy: 0.6305 - val_loss: 0.7268 - val_accuracy: 0.6326\n",
      "Epoch 25/30\n",
      "3697/3698 [============================>.] - ETA: 0s - loss: 0.7391 - accuracy: 0.6319\n",
      "Epoch 00025: val_accuracy did not improve from 0.63684\n",
      "3698/3698 [==============================] - 49s 13ms/step - loss: 0.7391 - accuracy: 0.6319 - val_loss: 0.7352 - val_accuracy: 0.6256\n",
      "Epoch 26/30\n",
      "3697/3698 [============================>.] - ETA: 0s - loss: 0.7403 - accuracy: 0.6296\n",
      "Epoch 00026: val_accuracy did not improve from 0.63684\n",
      "3698/3698 [==============================] - 48s 13ms/step - loss: 0.7403 - accuracy: 0.6296 - val_loss: 0.7310 - val_accuracy: 0.6306\n",
      "Epoch 27/30\n",
      "3697/3698 [============================>.] - ETA: 0s - loss: 0.7368 - accuracy: 0.6312\n",
      "Epoch 00027: val_accuracy did not improve from 0.63684\n",
      "3698/3698 [==============================] - 48s 13ms/step - loss: 0.7368 - accuracy: 0.6312 - val_loss: 0.7373 - val_accuracy: 0.6295\n",
      "Epoch 28/30\n",
      "3698/3698 [==============================] - ETA: 0s - loss: 0.7399 - accuracy: 0.6300\n",
      "Epoch 00028: val_accuracy did not improve from 0.63684\n",
      "3698/3698 [==============================] - 48s 13ms/step - loss: 0.7399 - accuracy: 0.6300 - val_loss: 0.7335 - val_accuracy: 0.6297\n",
      "Epoch 29/30\n",
      "3697/3698 [============================>.] - ETA: 0s - loss: 0.7391 - accuracy: 0.6306\n",
      "Epoch 00029: val_accuracy did not improve from 0.63684\n",
      "3698/3698 [==============================] - 48s 13ms/step - loss: 0.7392 - accuracy: 0.6306 - val_loss: 0.7341 - val_accuracy: 0.6323\n",
      "Epoch 30/30\n",
      "3697/3698 [============================>.] - ETA: 0s - loss: 0.7376 - accuracy: 0.6309\n",
      "Epoch 00030: val_accuracy did not improve from 0.63684\n",
      "3698/3698 [==============================] - 48s 13ms/step - loss: 0.7375 - accuracy: 0.6309 - val_loss: 0.7299 - val_accuracy: 0.6343\n",
      "529/529 [==============================] - 1s 1ms/step - loss: 0.7240 - accuracy: 0.6389\n",
      "ACC : 63.890201\n",
      "LOSS : 0.724013\n"
     ]
    }
   ],
   "source": [
    "# 모델 생성\n",
    "model = Model(inputs=input_layer, outputs=predictions)\n",
    "checkpoint = ModelCheckpoint('./intent_classification_best_model.h5', verbose = 1, monitor = 'val_accuracy', save_best_only = True)\n",
    "model.compile(optimizer=tf.keras.optimizers.Adam(lr=0.00005),\n",
    "               loss='sparse_categorical_crossentropy', metrics=['accuracy'])\n",
    "history = model.fit(train_dataset, validation_data=val_dataset,\n",
    "                    epochs=EPOCH, verbose=1,callbacks=checkpoint)\n",
    "\n",
    "loss, acc = model.evaluate(test_dataset, verbose=1)\n",
    "print(\"ACC : %f\"%(acc*100))\n",
    "print(\"LOSS : %f\"%loss)"
   ]
  },
  {
   "cell_type": "code",
   "execution_count": 8,
   "id": "approved-lloyd",
   "metadata": {},
   "outputs": [
    {
     "data": {
      "text/plain": [
       "Text(0.5, 1.0, 'loss')"
      ]
     },
     "execution_count": 8,
     "metadata": {},
     "output_type": "execute_result"
    },
    {
     "data": {
      "image/png": "[encoded data removed]",
      "text/plain": [
       "<Figure size 936x288 with 2 Axes>"
      ]
     },
     "metadata": {
      "needs_background": "light"
     },
     "output_type": "display_data"
    }
   ],
   "source": [
    "# Accuracy/validation plots\n",
    "h = history.history\n",
    "fig = plt.figure(figsize = (13, 4))\n",
    "\n",
    "plt.subplot(121)\n",
    "plt.plot(h['accuracy'], label = 'acc')\n",
    "plt.plot(h['val_accuracy'], label = 'val_acc')\n",
    "plt.legend()\n",
    "plt.grid()\n",
    "plt.title(f'accuracy')\n",
    "\n",
    "plt.subplot(122)\n",
    "plt.plot(h['loss'], label = 'loss')\n",
    "plt.plot(h['val_loss'], label = 'val_loss')\n",
    "plt.legend()\n",
    "plt.grid()\n",
    "plt.title(f'loss')"
   ]
  },
  {
   "cell_type": "code",
   "execution_count": 18,
   "id": "electoral-seafood",
   "metadata": {},
   "outputs": [
    {
     "data": {
      "text/plain": [
       "array([4, 4, 3, ..., 3, 3, 3])"
      ]
     },
     "execution_count": 18,
     "metadata": {},
     "output_type": "execute_result"
    }
   ],
   "source": [
    "y_pred = model.predict(test_dataset)\n",
    "y_pred_list = np.argmax(y_pred, axis=1)\n",
    "y_pred_list"
   ]
  },
  {
   "cell_type": "code",
   "execution_count": 30,
   "id": "subjective-staff",
   "metadata": {},
   "outputs": [
    {
     "data": {
      "text/plain": [
       "10565"
      ]
     },
     "execution_count": 30,
     "metadata": {},
     "output_type": "execute_result"
    }
   ],
   "source": [
    "len(y_pred_list)"
   ]
  },
  {
   "cell_type": "code",
   "execution_count": 38,
   "id": "deluxe-qatar",
   "metadata": {},
   "outputs": [
    {
     "name": "stdout",
     "output_type": "stream",
     "text": [
      "10565\n"
     ]
    }
   ],
   "source": [
    "y_true_list = []\n",
    "for _ ,datas in test_dataset.as_numpy_iterator():\n",
    "    for data in datas:\n",
    "        y_true_list.append(data)\n",
    "print(len(y_true_list))"
   ]
  },
  {
   "cell_type": "code",
   "execution_count": 42,
   "id": "afraid-humor",
   "metadata": {},
   "outputs": [
    {
     "data": {
      "text/plain": [
       "<AxesSubplot:>"
      ]
     },
     "execution_count": 42,
     "metadata": {},
     "output_type": "execute_result"
    },
    {
     "data": {
      "image/png": "[encoded data removed]",
      "text/plain": [
       "<Figure size 432x432 with 2 Axes>"
      ]
     },
     "metadata": {
      "needs_background": "light"
     },
     "output_type": "display_data"
    }
   ],
   "source": [
    "# confusion matrix\n",
    "category = ['hello_words', 'bad_words', 'order_words', 'reservation_words', 'else']\n",
    "confusion = confusion_matrix(y_true_list, y_pred_list)\n",
    "fig = plt.figure(figsize = (6, 6))\n",
    "sns.heatmap(confusion, annot = True, fmt = 'd', xticklabels = category, yticklabels = category, square = True)"
   ]
  },
  {
   "cell_type": "code",
   "execution_count": null,
   "id": "caring-volume",
   "metadata": {},
   "outputs": [],
   "source": [
    "# 교재 제공 모델 정확도 테스트"
   ]
  }
 ],
 "metadata": {
  "kernelspec": {
   "display_name": "Python 3",
   "language": "python",
   "name": "python3"
  },
  "language_info": {
   "codemirror_mode": {
    "name": "ipython",
    "version": 3
   },
   "file_extension": ".py",
   "mimetype": "text/x-python",
   "name": "python",
   "nbconvert_exporter": "python",
   "pygments_lexer": "ipython3",
   "version": "3.7.9"
  }
 },
 "nbformat": 4,
 "nbformat_minor": 5
}
