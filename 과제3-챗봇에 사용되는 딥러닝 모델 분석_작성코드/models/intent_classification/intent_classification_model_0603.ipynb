{
 "cells": [
  {
   "cell_type": "code",
   "execution_count": 1,
   "metadata": {},
   "outputs": [],
   "source": [
    "import pandas as pd\n",
    "import tensorflow as tf\n",
    "from tensorflow.keras import preprocessing\n",
    "from tensorflow.keras.models import Model\n",
    "from tensorflow.keras.layers import Input, Embedding, Dense, Dropout, Conv1D, GlobalMaxPool1D, concatenate, MaxPool1D\n",
    "from tensorflow.keras import callbacks\n",
    "from tensorflow.keras.callbacks import ModelCheckpoint\n",
    "from sklearn.metrics import confusion_matrix\n",
    "from sklearn.model_selection import train_test_split\n",
    "from sklearn.metrics import confusion_matrix\n",
    "import numpy as np\n",
    "import seaborn as sns\n",
    "import sys\n",
    "sys.path.append('../../utils')\n",
    "from preprocess import Preprocess\n",
    "sys.path.append('../../config')\n",
    "import matplotlib.pyplot as plt\n",
    "from GlobalParams import MAX_SEQ_LEN"
   ]
  },
  {
   "cell_type": "code",
   "execution_count": 2,
   "metadata": {},
   "outputs": [],
   "source": [
    "train_file = \"total_train_data.csv\"\n",
    "data = pd.read_csv(train_file, delimiter=',')\n",
    "# 데이터 구조 : 컬럼 2개(query, intent)\n",
    "# query : 발화 내용\n",
    "# intent : 발화 내용에 대한 label, 0~인사, 1~욕설, 2~주문, 3~예약, 4~기타\n",
    "queries = data['query'].tolist()\n",
    "intents = data['intent'].tolist()"
   ]
  },
  {
   "cell_type": "code",
   "execution_count": 3,
   "metadata": {},
   "outputs": [],
   "source": [
    "# 전처리 객체\n",
    "p = Preprocess(word2index_dic='../../train_tools/dict/chatbot_dict.bin',\n",
    "               userdic='../../utils/user_dic.tsv')\n",
    "# 단어 시퀀스 생성\n",
    "sequences = []\n",
    "for sentence in queries:\n",
    "    pos = p.pos(sentence)\n",
    "    keywords = p.pos(sentence)\n",
    "    seq = p.get_wordidx_sequence(keywords)\n",
    "    sequences.append(seq)"
   ]
  },
  {
   "cell_type": "code",
   "execution_count": 4,
   "metadata": {},
   "outputs": [],
   "source": [
    "# 단어 시퀀스 벡터 생성\n",
    "padded_seqs = preprocessing.sequence.pad_sequences(sequences, maxlen=MAX_SEQ_LEN, padding='post')\n",
    "\n",
    "# train, validation, test set 생성\n",
    "dataset = tf.data.Dataset.from_tensor_slices((padded_seqs, intents))\n",
    "dataset = dataset.shuffle(len(queries))\n",
    "\n",
    "train_size = int(len(padded_seqs) * 0.7)\n",
    "val_size = int(len(padded_seqs) * 0.2)\n",
    "test_size = int(len(padded_seqs) * 0.1)\n",
    "\n",
    "train_dataset = dataset.take(train_size).batch(20)\n",
    "val_dataset = dataset.skip(train_size).take(val_size).batch(20)\n",
    "test_dataset = dataset.skip(train_size + val_size).take(test_size).batch(20)"
   ]
  },
  {
   "cell_type": "code",
   "execution_count": 5,
   "metadata": {},
   "outputs": [],
   "source": [
    "# 하이퍼 파라미터 설정\n",
    "dropout_prob = 0.3 # 0.5에서 수정\n",
    "EMB_SIZE = 128\n",
    "EPOCH = 50\n",
    "VOCAB_SIZE = len(p.word_index) + 1"
   ]
  },
  {
   "cell_type": "code",
   "execution_count": 6,
   "metadata": {},
   "outputs": [],
   "source": [
    "# CNN 모델 정의 / conv층 추가, maxpool 층 추가, dropout 층 주석 처리 (210603)\n",
    "input_layer = Input(shape=(MAX_SEQ_LEN,))\n",
    "embedding_layer = Embedding(VOCAB_SIZE, EMB_SIZE, input_length=MAX_SEQ_LEN)(input_layer)\n",
    "#dropout_emb = Dropout(rate=dropout_prob)(embedding_layer)\n",
    "# 3-gram / conv 층 추가\n",
    "#conv1 = Conv1D(filters=128, kernel_size=3, padding='valid', activation=tf.nn.relu)(dropout_emb)\n",
    "conv1 = Conv1D(filters=128, kernel_size=3, padding='same', activation=tf.nn.relu)(embedding_layer)\n",
    "pool1 = MaxPool1D(padding='same')(conv1)\n",
    "conv1_1 = Conv1D(filters=256, kernel_size=3, padding='same', activation=tf.nn.relu)(conv1)\n",
    "pool1_1 = MaxPool1D(padding='same')(conv1_1)\n",
    "conv1_2 = Conv1D(filters=128, kernel_size=3, padding='same', activation=tf.nn.relu)(pool1_1)\n",
    "pool1_2 = MaxPool1D(padding='same')(conv1_2)\n",
    "GMpool1 = GlobalMaxPool1D()(conv1_2)\n",
    "# 4-gram / conv 층 추가\n",
    "conv2 = Conv1D(filters=128, kernel_size=4, padding='same', activation=tf.nn.relu)(embedding_layer)\n",
    "pool2 = MaxPool1D(padding='same')(conv2)\n",
    "conv2_1 = Conv1D(filters=256, kernel_size=4, padding='same', activation=tf.nn.relu)(conv2)\n",
    "pool2_1 = MaxPool1D(padding='same')(conv2_1)\n",
    "conv2_2 = Conv1D(filters=128, kernel_size=4, padding='same', activation=tf.nn.relu)(conv2_1)\n",
    "pool2_2 = MaxPool1D(padding='same')(conv2_2)\n",
    "GMpool2 = GlobalMaxPool1D()(conv2_2)\n",
    "# 5-gram / conv 층 추가\n",
    "conv3 = Conv1D(filters=128, kernel_size=5, padding='same', activation=tf.nn.relu)(embedding_layer)\n",
    "pool3 = MaxPool1D(padding='same')(conv3)\n",
    "conv3_1 = Conv1D(filters=256, kernel_size=5, padding='same', activation=tf.nn.relu)(conv3)\n",
    "pool3_1 = MaxPool1D(padding='same')(conv3_1)\n",
    "conv3_2 = Conv1D(filters=128, kernel_size=5, padding='same', activation=tf.nn.relu)(conv3_1)\n",
    "pool3_2 = MaxPool1D(padding='same')(conv3_2)\n",
    "GMpool3= GlobalMaxPool1D()(conv3_2)\n",
    "\n",
    "concat = concatenate([GMpool1, GMpool2, GMpool3])\n",
    "\n",
    "hidden = Dense(128, activation=tf.nn.relu)(concat)\n",
    "#dropout_hidden = Dropout(rate=dropout_prob)(hidden)\n",
    "#logits = Dense(5, name='logits')(dropout_hidden)\n",
    "logits = Dense(5, name='logits')(hidden)\n",
    "predictions = Dense(5, activation=tf.nn.softmax)(logits)"
   ]
  },
  {
   "cell_type": "code",
   "execution_count": 7,
   "metadata": {},
   "outputs": [
    {
     "data": {
      "text/plain": [
       "\"\\n# CNN 모델 정의\\ninput_layer = Input(shape=(MAX_SEQ_LEN,))\\nembedding_layer = Embedding(VOCAB_SIZE, EMB_SIZE, input_length=MAX_SEQ_LEN)(input_layer)\\n#dropout_emb = Dropout(rate=dropout_prob)(embedding_layer)\\n\\n# 3-gram / conv 층 추가\\n#conv1 = Conv1D(filters=128, kernel_size=3, padding='valid', activation=tf.nn.relu)(dropout_emb)\\nconv1 = Conv1D(filters=128, kernel_size=3, padding='same', activation=tf.nn.relu)(embedding_layer)\\npool1 = MaxPool1D(padding='same')(conv1)\\nconv1_1 = Conv1D(filters=256, kernel_size=3, padding='same', activation=tf.nn.relu)(pool1)\\npool2 = MaxPool1D(padding='same')(conv1_1)\\nconv1_2 = Conv1D(filters=128, kernel_size=3, padding='same', activation=tf.nn.relu)(pool2)\\npool3 = GlobalMaxPool1D()(conv1_2)\\n\\nhidden = Dense(128, activation=tf.nn.relu)(pool3)\\n#dropout_hidden = Dropout(rate=dropout_prob)(hidden)\\n#logits = Dense(5, name='logits')(dropout_hidden)\\nlogits = Dense(5, name='logits')(hidden)\\npredictions = Dense(5, activation=tf.nn.softmax)(logits)\\n\""
      ]
     },
     "execution_count": 7,
     "metadata": {},
     "output_type": "execute_result"
    }
   ],
   "source": [
    "'''\n",
    "# CNN 모델 정의\n",
    "input_layer = Input(shape=(MAX_SEQ_LEN,))\n",
    "embedding_layer = Embedding(VOCAB_SIZE, EMB_SIZE, input_length=MAX_SEQ_LEN)(input_layer)\n",
    "#dropout_emb = Dropout(rate=dropout_prob)(embedding_layer)\n",
    "\n",
    "# 3-gram / conv 층 추가\n",
    "#conv1 = Conv1D(filters=128, kernel_size=3, padding='valid', activation=tf.nn.relu)(dropout_emb)\n",
    "conv1 = Conv1D(filters=128, kernel_size=3, padding='same', activation=tf.nn.relu)(embedding_layer)\n",
    "pool1 = MaxPool1D(padding='same')(conv1)\n",
    "conv1_1 = Conv1D(filters=256, kernel_size=3, padding='same', activation=tf.nn.relu)(pool1)\n",
    "pool2 = MaxPool1D(padding='same')(conv1_1)\n",
    "conv1_2 = Conv1D(filters=128, kernel_size=3, padding='same', activation=tf.nn.relu)(pool2)\n",
    "pool3 = GlobalMaxPool1D()(conv1_2)\n",
    "\n",
    "hidden = Dense(128, activation=tf.nn.relu)(pool3)\n",
    "#dropout_hidden = Dropout(rate=dropout_prob)(hidden)\n",
    "#logits = Dense(5, name='logits')(dropout_hidden)\n",
    "logits = Dense(5, name='logits')(hidden)\n",
    "predictions = Dense(5, activation=tf.nn.softmax)(logits)\n",
    "'''"
   ]
  },
  {
   "cell_type": "code",
   "execution_count": 8,
   "metadata": {},
   "outputs": [
    {
     "name": "stdout",
     "output_type": "stream",
     "text": [
      "Model: \"functional_1\"\n",
      "__________________________________________________________________________________________________\n",
      "Layer (type)                    Output Shape         Param #     Connected to                     \n",
      "==================================================================================================\n",
      "input_1 (InputLayer)            [(None, 15)]         0                                            \n",
      "__________________________________________________________________________________________________\n",
      "embedding (Embedding)           (None, 15, 128)      2272128     input_1[0][0]                    \n",
      "__________________________________________________________________________________________________\n",
      "conv1d (Conv1D)                 (None, 15, 128)      49280       embedding[0][0]                  \n",
      "__________________________________________________________________________________________________\n",
      "conv1d_1 (Conv1D)               (None, 15, 256)      98560       conv1d[0][0]                     \n",
      "__________________________________________________________________________________________________\n",
      "conv1d_3 (Conv1D)               (None, 15, 128)      65664       embedding[0][0]                  \n",
      "__________________________________________________________________________________________________\n",
      "conv1d_6 (Conv1D)               (None, 15, 128)      82048       embedding[0][0]                  \n",
      "__________________________________________________________________________________________________\n",
      "max_pooling1d_1 (MaxPooling1D)  (None, 8, 256)       0           conv1d_1[0][0]                   \n",
      "__________________________________________________________________________________________________\n",
      "conv1d_4 (Conv1D)               (None, 15, 256)      131328      conv1d_3[0][0]                   \n",
      "__________________________________________________________________________________________________\n",
      "conv1d_7 (Conv1D)               (None, 15, 256)      164096      conv1d_6[0][0]                   \n",
      "__________________________________________________________________________________________________\n",
      "conv1d_2 (Conv1D)               (None, 8, 128)       98432       max_pooling1d_1[0][0]            \n",
      "__________________________________________________________________________________________________\n",
      "conv1d_5 (Conv1D)               (None, 15, 128)      131200      conv1d_4[0][0]                   \n",
      "__________________________________________________________________________________________________\n",
      "conv1d_8 (Conv1D)               (None, 15, 128)      163968      conv1d_7[0][0]                   \n",
      "__________________________________________________________________________________________________\n",
      "global_max_pooling1d (GlobalMax (None, 128)          0           conv1d_2[0][0]                   \n",
      "__________________________________________________________________________________________________\n",
      "global_max_pooling1d_1 (GlobalM (None, 128)          0           conv1d_5[0][0]                   \n",
      "__________________________________________________________________________________________________\n",
      "global_max_pooling1d_2 (GlobalM (None, 128)          0           conv1d_8[0][0]                   \n",
      "__________________________________________________________________________________________________\n",
      "concatenate (Concatenate)       (None, 384)          0           global_max_pooling1d[0][0]       \n",
      "                                                                 global_max_pooling1d_1[0][0]     \n",
      "                                                                 global_max_pooling1d_2[0][0]     \n",
      "__________________________________________________________________________________________________\n",
      "dense (Dense)                   (None, 128)          49280       concatenate[0][0]                \n",
      "__________________________________________________________________________________________________\n",
      "logits (Dense)                  (None, 5)            645         dense[0][0]                      \n",
      "__________________________________________________________________________________________________\n",
      "dense_1 (Dense)                 (None, 5)            30          logits[0][0]                     \n",
      "==================================================================================================\n",
      "Total params: 3,306,659\n",
      "Trainable params: 3,306,659\n",
      "Non-trainable params: 0\n",
      "__________________________________________________________________________________________________\n",
      "Epoch 1/50\n",
      "3697/3698 [============================>.] - ETA: 0s - loss: 1.3083 - accuracy: 0.4950\n",
      "Epoch 00001: val_loss improved from inf to 1.01851, saving model to ./intent_classification_best_model_1.h5\n",
      "3698/3698 [==============================] - 54s 15ms/step - loss: 1.3082 - accuracy: 0.4950 - val_loss: 1.0185 - val_accuracy: 0.5036\n",
      "Epoch 2/50\n",
      "3698/3698 [==============================] - ETA: 0s - loss: 0.9436 - accuracy: 0.5114\n",
      "Epoch 00002: val_loss improved from 1.01851 to 0.90473, saving model to ./intent_classification_best_model_1.h5\n",
      "3698/3698 [==============================] - 55s 15ms/step - loss: 0.9436 - accuracy: 0.5114 - val_loss: 0.9047 - val_accuracy: 0.5325\n",
      "Epoch 3/50\n",
      "3698/3698 [==============================] - ETA: 0s - loss: 0.8758 - accuracy: 0.5790\n",
      "Epoch 00003: val_loss improved from 0.90473 to 0.86009, saving model to ./intent_classification_best_model_1.h5\n",
      "3698/3698 [==============================] - 55s 15ms/step - loss: 0.8758 - accuracy: 0.5790 - val_loss: 0.8601 - val_accuracy: 0.5857\n",
      "Epoch 4/50\n",
      "3697/3698 [============================>.] - ETA: 0s - loss: 0.8439 - accuracy: 0.6013\n",
      "Epoch 00004: val_loss improved from 0.86009 to 0.84436, saving model to ./intent_classification_best_model_1.h5\n",
      "3698/3698 [==============================] - 55s 15ms/step - loss: 0.8439 - accuracy: 0.6013 - val_loss: 0.8444 - val_accuracy: 0.6047\n",
      "Epoch 5/50\n",
      "3697/3698 [============================>.] - ETA: 0s - loss: 0.8271 - accuracy: 0.6088\n",
      "Epoch 00005: val_loss improved from 0.84436 to 0.81897, saving model to ./intent_classification_best_model_1.h5\n",
      "3698/3698 [==============================] - 55s 15ms/step - loss: 0.8271 - accuracy: 0.6088 - val_loss: 0.8190 - val_accuracy: 0.6120\n",
      "Epoch 6/50\n",
      "3697/3698 [============================>.] - ETA: 0s - loss: 0.8160 - accuracy: 0.6073\n",
      "Epoch 00006: val_loss improved from 0.81897 to 0.80676, saving model to ./intent_classification_best_model_1.h5\n",
      "3698/3698 [==============================] - 54s 15ms/step - loss: 0.8161 - accuracy: 0.6073 - val_loss: 0.8068 - val_accuracy: 0.6105\n",
      "Epoch 7/50\n",
      "3696/3698 [============================>.] - ETA: 0s - loss: 0.8071 - accuracy: 0.6079\n",
      "Epoch 00007: val_loss did not improve from 0.80676\n",
      "3698/3698 [==============================] - 55s 15ms/step - loss: 0.8070 - accuracy: 0.6079 - val_loss: 0.8096 - val_accuracy: 0.6006\n",
      "Epoch 8/50\n",
      "3697/3698 [============================>.] - ETA: 0s - loss: 0.8001 - accuracy: 0.6143\n",
      "Epoch 00008: val_loss improved from 0.80676 to 0.78758, saving model to ./intent_classification_best_model_1.h5\n",
      "3698/3698 [==============================] - 54s 15ms/step - loss: 0.8002 - accuracy: 0.6143 - val_loss: 0.7876 - val_accuracy: 0.6158\n",
      "Epoch 9/50\n",
      "3698/3698 [==============================] - ETA: 0s - loss: 0.7915 - accuracy: 0.6136\n",
      "Epoch 00009: val_loss did not improve from 0.78758\n",
      "3698/3698 [==============================] - 55s 15ms/step - loss: 0.7915 - accuracy: 0.6136 - val_loss: 0.7889 - val_accuracy: 0.6129\n",
      "Epoch 10/50\n",
      "3697/3698 [============================>.] - ETA: 0s - loss: 0.7847 - accuracy: 0.6186\n",
      "Epoch 00010: val_loss improved from 0.78758 to 0.78370, saving model to ./intent_classification_best_model_1.h5\n",
      "3698/3698 [==============================] - 54s 15ms/step - loss: 0.7848 - accuracy: 0.6186 - val_loss: 0.7837 - val_accuracy: 0.6263\n",
      "Epoch 11/50\n",
      "3698/3698 [==============================] - ETA: 0s - loss: 0.7806 - accuracy: 0.6188\n",
      "Epoch 00011: val_loss improved from 0.78370 to 0.76812, saving model to ./intent_classification_best_model_1.h5\n",
      "3698/3698 [==============================] - 56s 15ms/step - loss: 0.7806 - accuracy: 0.6188 - val_loss: 0.7681 - val_accuracy: 0.6258\n",
      "Epoch 12/50\n",
      "3697/3698 [============================>.] - ETA: 0s - loss: 0.7754 - accuracy: 0.6248\n",
      "Epoch 00012: val_loss did not improve from 0.76812\n",
      "3698/3698 [==============================] - 54s 15ms/step - loss: 0.7753 - accuracy: 0.6249 - val_loss: 0.7781 - val_accuracy: 0.6204\n",
      "Epoch 13/50\n",
      "3696/3698 [============================>.] - ETA: 0s - loss: 0.7733 - accuracy: 0.6227\n",
      "Epoch 00013: val_loss did not improve from 0.76812\n",
      "3698/3698 [==============================] - 55s 15ms/step - loss: 0.7733 - accuracy: 0.6227 - val_loss: 0.7697 - val_accuracy: 0.6179\n",
      "Epoch 14/50\n",
      "3697/3698 [============================>.] - ETA: 0s - loss: 0.7704 - accuracy: 0.6232\n",
      "Epoch 00014: val_loss improved from 0.76812 to 0.76487, saving model to ./intent_classification_best_model_1.h5\n",
      "3698/3698 [==============================] - 55s 15ms/step - loss: 0.7705 - accuracy: 0.6232 - val_loss: 0.7649 - val_accuracy: 0.6260\n",
      "Epoch 15/50\n",
      "3696/3698 [============================>.] - ETA: 0s - loss: 0.7654 - accuracy: 0.6258\n",
      "Epoch 00015: val_loss did not improve from 0.76487\n",
      "3698/3698 [==============================] - 55s 15ms/step - loss: 0.7655 - accuracy: 0.6258 - val_loss: 0.7653 - val_accuracy: 0.6205\n",
      "Epoch 16/50\n",
      "3696/3698 [============================>.] - ETA: 0s - loss: 0.7669 - accuracy: 0.6231\n",
      "Epoch 00016: val_loss did not improve from 0.76487\n",
      "3698/3698 [==============================] - 55s 15ms/step - loss: 0.7669 - accuracy: 0.6231 - val_loss: 0.7663 - val_accuracy: 0.6266\n",
      "Epoch 17/50\n",
      "3697/3698 [============================>.] - ETA: 0s - loss: 0.7625 - accuracy: 0.6277\n",
      "Epoch 00017: val_loss improved from 0.76487 to 0.76101, saving model to ./intent_classification_best_model_1.h5\n",
      "3698/3698 [==============================] - 54s 15ms/step - loss: 0.7625 - accuracy: 0.6277 - val_loss: 0.7610 - val_accuracy: 0.6242\n",
      "Epoch 18/50\n",
      "3696/3698 [============================>.] - ETA: 0s - loss: 0.7611 - accuracy: 0.6304\n",
      "Epoch 00018: val_loss improved from 0.76101 to 0.75779, saving model to ./intent_classification_best_model_1.h5\n",
      "3698/3698 [==============================] - 56s 15ms/step - loss: 0.7611 - accuracy: 0.6304 - val_loss: 0.7578 - val_accuracy: 0.6337\n",
      "Epoch 19/50\n",
      "3697/3698 [============================>.] - ETA: 0s - loss: 0.7602 - accuracy: 0.6312\n",
      "Epoch 00019: val_loss improved from 0.75779 to 0.75225, saving model to ./intent_classification_best_model_1.h5\n",
      "3698/3698 [==============================] - 54s 15ms/step - loss: 0.7602 - accuracy: 0.6313 - val_loss: 0.7522 - val_accuracy: 0.6359\n",
      "Epoch 20/50\n",
      "3697/3698 [============================>.] - ETA: 0s - loss: 0.7589 - accuracy: 0.6296\n",
      "Epoch 00020: val_loss did not improve from 0.75225\n",
      "3698/3698 [==============================] - 55s 15ms/step - loss: 0.7588 - accuracy: 0.6297 - val_loss: 0.7549 - val_accuracy: 0.6368\n",
      "Epoch 21/50\n",
      "3697/3698 [============================>.] - ETA: 0s - loss: 0.7579 - accuracy: 0.6312\n",
      "Epoch 00021: val_loss did not improve from 0.75225\n",
      "3698/3698 [==============================] - 54s 15ms/step - loss: 0.7579 - accuracy: 0.6312 - val_loss: 0.7560 - val_accuracy: 0.6341\n",
      "Epoch 22/50\n",
      "3697/3698 [============================>.] - ETA: 0s - loss: 0.7581 - accuracy: 0.6311\n",
      "Epoch 00022: val_loss did not improve from 0.75225\n",
      "3698/3698 [==============================] - 56s 15ms/step - loss: 0.7581 - accuracy: 0.6310 - val_loss: 0.7600 - val_accuracy: 0.6311\n",
      "Epoch 23/50\n",
      "3697/3698 [============================>.] - ETA: 0s - loss: 0.7571 - accuracy: 0.6294\n",
      "Epoch 00023: val_loss did not improve from 0.75225\n",
      "3698/3698 [==============================] - 54s 15ms/step - loss: 0.7571 - accuracy: 0.6294 - val_loss: 0.7576 - val_accuracy: 0.6329\n",
      "Epoch 24/50\n",
      "3698/3698 [==============================] - ETA: 0s - loss: 0.7545 - accuracy: 0.6318\n",
      "Epoch 00024: val_loss did not improve from 0.75225\n",
      "3698/3698 [==============================] - 55s 15ms/step - loss: 0.7545 - accuracy: 0.6318 - val_loss: 0.7580 - val_accuracy: 0.6257\n",
      "Epoch 25/50\n",
      "3697/3698 [============================>.] - ETA: 0s - loss: 0.7534 - accuracy: 0.6301\n",
      "Epoch 00025: val_loss improved from 0.75225 to 0.74864, saving model to ./intent_classification_best_model_1.h5\n",
      "3698/3698 [==============================] - 55s 15ms/step - loss: 0.7534 - accuracy: 0.6300 - val_loss: 0.7486 - val_accuracy: 0.6346\n",
      "Epoch 26/50\n",
      "3697/3698 [============================>.] - ETA: 0s - loss: 0.7538 - accuracy: 0.6305\n",
      "Epoch 00026: val_loss did not improve from 0.74864\n",
      "3698/3698 [==============================] - 54s 15ms/step - loss: 0.7538 - accuracy: 0.6305 - val_loss: 0.7541 - val_accuracy: 0.6304\n",
      "Epoch 27/50\n",
      "3696/3698 [============================>.] - ETA: 0s - loss: 0.7523 - accuracy: 0.6318\n",
      "Epoch 00027: val_loss did not improve from 0.74864\n",
      "3698/3698 [==============================] - 55s 15ms/step - loss: 0.7523 - accuracy: 0.6318 - val_loss: 0.7491 - val_accuracy: 0.6292\n",
      "Epoch 28/50\n",
      "3697/3698 [============================>.] - ETA: 0s - loss: 0.7515 - accuracy: 0.6314\n",
      "Epoch 00028: val_loss did not improve from 0.74864\n",
      "3698/3698 [==============================] - 54s 15ms/step - loss: 0.7515 - accuracy: 0.6314 - val_loss: 0.7578 - val_accuracy: 0.6261\n",
      "Epoch 29/50\n",
      "3696/3698 [============================>.] - ETA: 0s - loss: 0.7514 - accuracy: 0.6306\n",
      "Epoch 00029: val_loss did not improve from 0.74864\n",
      "3698/3698 [==============================] - 55s 15ms/step - loss: 0.7514 - accuracy: 0.6307 - val_loss: 0.7547 - val_accuracy: 0.6251\n",
      "Epoch 30/50\n",
      "3697/3698 [============================>.] - ETA: 0s - loss: 0.7515 - accuracy: 0.6304\n",
      "Epoch 00030: val_loss did not improve from 0.74864\n",
      "3698/3698 [==============================] - 54s 15ms/step - loss: 0.7515 - accuracy: 0.6304 - val_loss: 0.7525 - val_accuracy: 0.6284\n",
      "Epoch 31/50\n",
      "3698/3698 [==============================] - ETA: 0s - loss: 0.7504 - accuracy: 0.6300\n",
      "Epoch 00031: val_loss did not improve from 0.74864\n",
      "3698/3698 [==============================] - 55s 15ms/step - loss: 0.7504 - accuracy: 0.6300 - val_loss: 0.7534 - val_accuracy: 0.6282\n",
      "Epoch 32/50\n",
      "3697/3698 [============================>.] - ETA: 0s - loss: 0.7490 - accuracy: 0.6309\n",
      "Epoch 00032: val_loss did not improve from 0.74864\n",
      "3698/3698 [==============================] - 54s 15ms/step - loss: 0.7490 - accuracy: 0.6309 - val_loss: 0.7527 - val_accuracy: 0.6324\n",
      "Epoch 33/50\n",
      "3697/3698 [============================>.] - ETA: 0s - loss: 0.7502 - accuracy: 0.6303\n",
      "Epoch 00033: val_loss did not improve from 0.74864\n",
      "3698/3698 [==============================] - 55s 15ms/step - loss: 0.7502 - accuracy: 0.6303 - val_loss: 0.7548 - val_accuracy: 0.6261\n",
      "Epoch 34/50\n",
      "3697/3698 [============================>.] - ETA: 0s - loss: 0.7489 - accuracy: 0.6301\n",
      "Epoch 00034: val_loss did not improve from 0.74864\n",
      "3698/3698 [==============================] - 54s 15ms/step - loss: 0.7489 - accuracy: 0.6301 - val_loss: 0.7517 - val_accuracy: 0.6330\n",
      "Epoch 35/50\n",
      "3696/3698 [============================>.] - ETA: 0s - loss: 0.7456 - accuracy: 0.6317\n",
      "Epoch 00035: val_loss improved from 0.74864 to 0.74431, saving model to ./intent_classification_best_model_1.h5\n",
      "3698/3698 [==============================] - 55s 15ms/step - loss: 0.7455 - accuracy: 0.6317 - val_loss: 0.7443 - val_accuracy: 0.6322\n",
      "Epoch 36/50\n",
      "3697/3698 [============================>.] - ETA: 0s - loss: 0.7482 - accuracy: 0.6309\n",
      "Epoch 00036: val_loss did not improve from 0.74431\n",
      "3698/3698 [==============================] - 55s 15ms/step - loss: 0.7482 - accuracy: 0.6309 - val_loss: 0.7527 - val_accuracy: 0.6307\n",
      "Epoch 37/50\n",
      "3697/3698 [============================>.] - ETA: 0s - loss: 0.7473 - accuracy: 0.6317\n",
      "Epoch 00037: val_loss improved from 0.74431 to 0.74410, saving model to ./intent_classification_best_model_1.h5\n",
      "3698/3698 [==============================] - 55s 15ms/step - loss: 0.7474 - accuracy: 0.6317 - val_loss: 0.7441 - val_accuracy: 0.6321\n",
      "Epoch 38/50\n",
      "3696/3698 [============================>.] - ETA: 0s - loss: 0.7466 - accuracy: 0.6312\n",
      "Epoch 00038: val_loss did not improve from 0.74410\n",
      "3698/3698 [==============================] - 55s 15ms/step - loss: 0.7466 - accuracy: 0.6313 - val_loss: 0.7500 - val_accuracy: 0.6339\n",
      "Epoch 39/50\n",
      "3697/3698 [============================>.] - ETA: 0s - loss: 0.7484 - accuracy: 0.6297\n",
      "Epoch 00039: val_loss improved from 0.74410 to 0.74271, saving model to ./intent_classification_best_model_1.h5\n",
      "3698/3698 [==============================] - 54s 15ms/step - loss: 0.7484 - accuracy: 0.6297 - val_loss: 0.7427 - val_accuracy: 0.6341\n",
      "Epoch 40/50\n",
      "3695/3698 [============================>.] - ETA: 0s - loss: 0.7463 - accuracy: 0.6312\n",
      "Epoch 00040: val_loss did not improve from 0.74271\n",
      "3698/3698 [==============================] - 55s 15ms/step - loss: 0.7463 - accuracy: 0.6312 - val_loss: 0.7494 - val_accuracy: 0.6295\n",
      "Epoch 41/50\n",
      "3697/3698 [============================>.] - ETA: 0s - loss: 0.7440 - accuracy: 0.6296\n",
      "Epoch 00041: val_loss did not improve from 0.74271\n",
      "3698/3698 [==============================] - 54s 15ms/step - loss: 0.7440 - accuracy: 0.6296 - val_loss: 0.7488 - val_accuracy: 0.6270\n",
      "Epoch 42/50\n",
      "3695/3698 [============================>.] - ETA: 0s - loss: 0.7438 - accuracy: 0.6314\n",
      "Epoch 00042: val_loss improved from 0.74271 to 0.74072, saving model to ./intent_classification_best_model_1.h5\n",
      "3698/3698 [==============================] - 55s 15ms/step - loss: 0.7438 - accuracy: 0.6314 - val_loss: 0.7407 - val_accuracy: 0.6358\n",
      "Epoch 43/50\n",
      "3697/3698 [============================>.] - ETA: 0s - loss: 0.7449 - accuracy: 0.6315\n",
      "Epoch 00043: val_loss did not improve from 0.74072\n",
      "3698/3698 [==============================] - 54s 15ms/step - loss: 0.7449 - accuracy: 0.6315 - val_loss: 0.7438 - val_accuracy: 0.6300\n",
      "Epoch 44/50\n",
      "3697/3698 [============================>.] - ETA: 0s - loss: 0.7448 - accuracy: 0.6297\n",
      "Epoch 00044: val_loss did not improve from 0.74072\n",
      "3698/3698 [==============================] - 55s 15ms/step - loss: 0.7449 - accuracy: 0.6297 - val_loss: 0.7427 - val_accuracy: 0.6301\n",
      "Epoch 45/50\n",
      "3696/3698 [============================>.] - ETA: 0s - loss: 0.7452 - accuracy: 0.6305\n",
      "Epoch 00045: val_loss did not improve from 0.74072\n",
      "3698/3698 [==============================] - 54s 15ms/step - loss: 0.7452 - accuracy: 0.6304 - val_loss: 0.7482 - val_accuracy: 0.6294\n",
      "Epoch 46/50\n",
      "3696/3698 [============================>.] - ETA: 0s - loss: 0.7446 - accuracy: 0.6313\n",
      "Epoch 00046: val_loss did not improve from 0.74072\n",
      "3698/3698 [==============================] - 54s 15ms/step - loss: 0.7446 - accuracy: 0.6312 - val_loss: 0.7441 - val_accuracy: 0.6310\n",
      "Epoch 47/50\n",
      "3697/3698 [============================>.] - ETA: 0s - loss: 0.7429 - accuracy: 0.6297\n",
      "Epoch 00047: val_loss did not improve from 0.74072\n",
      "3698/3698 [==============================] - 55s 15ms/step - loss: 0.7430 - accuracy: 0.6296 - val_loss: 0.7444 - val_accuracy: 0.6272\n",
      "Epoch 48/50\n",
      "3697/3698 [============================>.] - ETA: 0s - loss: 0.7410 - accuracy: 0.6313\n",
      "Epoch 00048: val_loss did not improve from 0.74072\n",
      "3698/3698 [==============================] - 54s 15ms/step - loss: 0.7410 - accuracy: 0.6313 - val_loss: 0.7418 - val_accuracy: 0.6336\n",
      "Epoch 49/50\n",
      "3697/3698 [============================>.] - ETA: 0s - loss: 0.7417 - accuracy: 0.6310\n",
      "Epoch 00049: val_loss improved from 0.74072 to 0.73817, saving model to ./intent_classification_best_model_1.h5\n",
      "3698/3698 [==============================] - 56s 15ms/step - loss: 0.7417 - accuracy: 0.6310 - val_loss: 0.7382 - val_accuracy: 0.6273\n",
      "Epoch 50/50\n",
      "3698/3698 [==============================] - ETA: 0s - loss: 0.7430 - accuracy: 0.6308\n",
      "Epoch 00050: val_loss did not improve from 0.73817\n",
      "3698/3698 [==============================] - 54s 15ms/step - loss: 0.7430 - accuracy: 0.6308 - val_loss: 0.7451 - val_accuracy: 0.6278\n",
      "529/529 [==============================] - 1s 2ms/step - loss: 0.7543 - accuracy: 0.6275\n",
      "ACC : 62.754375\n",
      "LOSS : 0.754273\n"
     ]
    }
   ],
   "source": [
    "# 모델 생성 / 모델 구조 변화 후 model_1 저장 ~ 목표 : val_acc 정확도 70퍼까지 올리기\n",
    "model = Model(inputs=input_layer, outputs=predictions)\n",
    "model.summary()\n",
    "checkpoint = ModelCheckpoint('./intent_classification_best_model_1.h5', verbose = 1, monitor = 'val_loss', save_best_only = True)\n",
    "model.compile(optimizer=tf.keras.optimizers.Adam(lr=0.000001),\n",
    "               loss='sparse_categorical_crossentropy', metrics=['accuracy'])\n",
    "history = model.fit(train_dataset, validation_data=val_dataset,\n",
    "                    epochs=EPOCH, verbose=1,callbacks=checkpoint)\n",
    "\n",
    "loss, acc = model.evaluate(test_dataset, verbose=1)\n",
    "print(\"ACC : %f\"%(acc*100))\n",
    "print(\"LOSS : %f\"%loss)"
   ]
  },
  {
   "cell_type": "code",
   "execution_count": 9,
   "metadata": {},
   "outputs": [
    {
     "data": {
      "text/plain": [
       "Text(0.5, 1.0, 'loss')"
      ]
     },
     "execution_count": 9,
     "metadata": {},
     "output_type": "execute_result"
    },
    {
     "data": {
      "image/png": "[encoded data removed]",
      "text/plain": [
       "<Figure size 936x288 with 2 Axes>"
      ]
     },
     "metadata": {
      "needs_background": "light"
     },
     "output_type": "display_data"
    }
   ],
   "source": [
    "# Accuracy/validation plots\n",
    "h = history.history\n",
    "fig = plt.figure(figsize = (13, 4))\n",
    "\n",
    "plt.subplot(121)\n",
    "plt.plot(h['accuracy'], label = 'acc')\n",
    "plt.plot(h['val_accuracy'], label = 'val_acc')\n",
    "plt.legend()\n",
    "plt.grid()\n",
    "plt.title(f'accuracy')\n",
    "\n",
    "plt.subplot(122)\n",
    "plt.plot(h['loss'], label = 'loss')\n",
    "plt.plot(h['val_loss'], label = 'val_loss')\n",
    "plt.legend()\n",
    "plt.grid()\n",
    "plt.title(f'loss')"
   ]
  },
  {
   "cell_type": "code",
   "execution_count": 10,
   "metadata": {},
   "outputs": [
    {
     "data": {
      "text/plain": [
       "array([2, 3, 3, ..., 2, 3, 3])"
      ]
     },
     "execution_count": 10,
     "metadata": {},
     "output_type": "execute_result"
    }
   ],
   "source": [
    "y_pred = model.predict(test_dataset)\n",
    "y_pred_list = np.argmax(y_pred, axis=1)\n",
    "y_pred_list"
   ]
  },
  {
   "cell_type": "code",
   "execution_count": 11,
   "metadata": {},
   "outputs": [
    {
     "data": {
      "text/plain": [
       "10565"
      ]
     },
     "execution_count": 11,
     "metadata": {},
     "output_type": "execute_result"
    }
   ],
   "source": [
    "len(y_pred_list)"
   ]
  },
  {
   "cell_type": "code",
   "execution_count": 12,
   "metadata": {},
   "outputs": [
    {
     "name": "stdout",
     "output_type": "stream",
     "text": [
      "10565\n"
     ]
    }
   ],
   "source": [
    "y_true_list = []\n",
    "for _ ,datas in test_dataset.as_numpy_iterator():\n",
    "    for data in datas:\n",
    "        y_true_list.append(data)\n",
    "print(len(y_true_list))"
   ]
  },
  {
   "cell_type": "code",
   "execution_count": 13,
   "metadata": {},
   "outputs": [
    {
     "data": {
      "text/plain": [
       "<AxesSubplot:>"
      ]
     },
     "execution_count": 13,
     "metadata": {},
     "output_type": "execute_result"
    },
    {
     "data": {
      "image/png": "[encoded data removed]",
      "text/plain": [
       "<Figure size 432x432 with 2 Axes>"
      ]
     },
     "metadata": {
      "needs_background": "light"
     },
     "output_type": "display_data"
    }
   ],
   "source": [
    "# confusion matrix\n",
    "category = ['hello_words', 'bad_words', 'order_words', 'reservation_words', 'else']\n",
    "confusion = confusion_matrix(y_true_list, y_pred_list)\n",
    "fig = plt.figure(figsize = (6, 6))\n",
    "sns.heatmap(confusion, annot = True, fmt = 'd', xticklabels = category, yticklabels = category, square = True)"
   ]
  },
  {
   "cell_type": "code",
   "execution_count": 14,
   "metadata": {},
   "outputs": [],
   "source": [
    "# 교재 제공 모델 정확도 테스트"
   ]
  }
 ],
 "metadata": {
  "kernelspec": {
   "display_name": "Python 3",
   "language": "python",
   "name": "python3"
  },
  "language_info": {
   "codemirror_mode": {
    "name": "ipython",
    "version": 3
   },
   "file_extension": ".py",
   "mimetype": "text/x-python",
   "name": "python",
   "nbconvert_exporter": "python",
   "pygments_lexer": "ipython3",
   "version": "3.7.7"
  }
 },
 "nbformat": 4,
 "nbformat_minor": 5
}
